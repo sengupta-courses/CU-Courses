{
 "cells": [
  {
   "cell_type": "markdown",
   "metadata": {},
   "source": [
    "## Outline\n",
    "0. Pattern matching basics\n",
    "1. Lists and Pattern Matching\n",
    "2. Higher-order Functions\n",
    "3. Abstract Syntax Tree\n"
   ]
  },
  {
   "cell_type": "markdown",
   "metadata": {},
   "source": [
    "## Pattern matching basics"
   ]
  },
  {
   "cell_type": "code",
   "execution_count": null,
   "metadata": {},
   "outputs": [],
   "source": [
    "// What should be the output?\n",
    "val x = 10 // What if x is 2\n",
    "x match {\n",
    "    case 1 => println(s\"$x == 1\")\n",
    "    case 2 => println(s\"$x == 2\")\n",
    "    case 3 => println(s\"$x == 3\")\n",
    "    case _ => println(s\"$x\")\n",
    "}"
   ]
  },
  {
   "cell_type": "code",
   "execution_count": null,
   "metadata": {},
   "outputs": [],
   "source": [
    "// What should be the output?\n",
    "val x = 10 // What if x is 2\n",
    "x match {\n",
    "    case _ if x > 5 => println(s\"$x > 5\") \n",
    "    case _ if x > 1 => println(s\"$x > 1\")\n",
    "    case _ => println(s\"$x\")\n",
    "}"
   ]
  },
  {
   "cell_type": "code",
   "execution_count": null,
   "metadata": {},
   "outputs": [],
   "source": [
    "// What should be the output?\n",
    "val x = 10\n",
    "x match {\n",
    "    case y if x > 5 => println(s\"$y > 5\") \n",
    "    case _ if x > 1 => println(s\"$x > 1\")\n",
    "    case _ => println(s\"$x\")\n",
    "}"
   ]
  },
  {
   "cell_type": "code",
   "execution_count": null,
   "metadata": {},
   "outputs": [],
   "source": [
    "// What should be the output?\n",
    "val x = 10\n",
    "x match {\n",
    "    case y@(10 | 20 | 30) => println(s\"$y is either 10 or 20 or 30\") \n",
    "    case _ => println(s\"$x\")\n",
    "}"
   ]
  },
  {
   "cell_type": "code",
   "execution_count": null,
   "metadata": {},
   "outputs": [],
   "source": [
    "// What should be the output?\n",
    "val x = 10\n",
    "x match {\n",
    "    case y@(1 | 2 | 3) => println(s\"$y is either 1 or 2 or 3\") \n",
    "    case _ => println(s\"$x\")\n",
    "}"
   ]
  },
  {
   "cell_type": "code",
   "execution_count": null,
   "metadata": {},
   "outputs": [],
   "source": [
    "// What should be the output?\n",
    "val x = 10\n",
    "x match {\n",
    "    case y@(1 | 2 | _) => println(s\"$y is either 1 or 2 or whatever\") \n",
    "    case _ => println(s\"$x\")\n",
    "}"
   ]
  },
  {
   "cell_type": "markdown",
   "metadata": {},
   "source": [
    "## Lists and Pattern Matching"
   ]
  },
  {
   "cell_type": "markdown",
   "metadata": {},
   "source": [
    "Our inductive structure of choice for this problem is a linked list. The below code defines the structure."
   ]
  },
  {
   "cell_type": "code",
   "execution_count": null,
   "metadata": {},
   "outputs": [],
   "source": [
    "sealed trait NumList\n",
    "case object MyNil extends NumList\n",
    "case class MyCons(firstElement : Int, restOfList : NumList) extends NumList"
   ]
  },
  {
   "cell_type": "markdown",
   "metadata": {},
   "source": [
    "Since it's an inductive structure, we can write a grammar for it:\n",
    "\n",
    "$$\n",
    "\\begin{array}{rcl}\n",
    "    \\textbf{NumList} & \\rightarrow & MyNil \\\\\n",
    "                     &           | & MyCons(\\textbf{Int}, \\textbf{NumList}) \\\\\n",
    "\\end{array}\n",
    "$$"
   ]
  },
  {
   "cell_type": "markdown",
   "metadata": {},
   "source": [
    "### Exercise: Writing lists\n",
    "Write out the following lists with our `NumList` class.\n",
    "\n",
    "1. `[]` (The empty list)\n",
    "2. `[1, 2, 3]`"
   ]
  },
  {
   "cell_type": "code",
   "execution_count": null,
   "metadata": {},
   "outputs": [],
   "source": [
    "val ans_1 = ???\n",
    "val ans_2 = ???"
   ]
  },
  {
   "cell_type": "markdown",
   "metadata": {},
   "source": [
    "### Exercise: Length of list\n",
    "Implement a `myLength` function for our list type using [pattern matching](https://docs.scala-lang.org/tour/pattern-matching.html)."
   ]
  },
  {
   "cell_type": "code",
   "execution_count": null,
   "metadata": {},
   "outputs": [],
   "source": [
    "// Is this function recursive?\n",
    "// Is it tail recursive?\n",
    "\n",
    "def myLength(list : NumList) : Int = {\n",
    "    list match {\n",
    "        case MyNil => ???\n",
    "        case MyCons(firstElement, restOfList) => ???\n",
    "    }\n",
    "}"
   ]
  },
  {
   "cell_type": "code",
   "execution_count": null,
   "metadata": {},
   "outputs": [],
   "source": [
    "assert(myLength(MyNil) == 0)\n",
    "assert(myLength(MyCons(1, MyCons(2, MyNil))) == 2)"
   ]
  },
  {
   "cell_type": "markdown",
   "metadata": {},
   "source": [
    "### Exercise: Translate to built in lists\n",
    "Rewrite `length` to use [Scala's list class](https://www.scala-lang.org/api/current/scala/collection/immutable/List.html), which is very similar to the one defined above. The table below shows the equivalences:\n",
    "\n",
    "|`NumList`      | `List[Int]`|\n",
    "|---------------|------------|\n",
    "|`MyNil`        | `Nil`      |\n",
    "|`MyCons(a, b)` | `a :: b`   |"
   ]
  },
  {
   "cell_type": "code",
   "execution_count": null,
   "metadata": {},
   "outputs": [],
   "source": [
    "def length(list : List[Int]) : Int = {\n",
    "    list match {\n",
    "        case Nil => ???\n",
    "        case firstElement :: restOfList => ???\n",
    "    }\n",
    "}"
   ]
  },
  {
   "cell_type": "code",
   "execution_count": null,
   "metadata": {},
   "outputs": [],
   "source": [
    "assert(length(List()) == 0)\n",
    "assert(length(List(1, 2, 3)) == 3)"
   ]
  },
  {
   "cell_type": "markdown",
   "metadata": {},
   "source": [
    "## Abstract Syntax Trees (AST)\n",
    "We'll be reusing the AST for sets from the previous recitation (without the complement). For more on ASTs, see\n",
    "https://en.wikipedia.org/wiki/Abstract_syntax_tree\n",
    "\n",
    "$$\n",
    "\\begin{array}{rcl}\n",
    "    \\textbf{Set} & \\rightarrow & Empty \\\\\n",
    "                 &           | & Cons(\\textbf{Set}, \\textbf{Int}) \\\\\n",
    "                 &           | & Intersection(\\textbf{Set}, \\textbf{Set}) \\\\\n",
    "                 &           | & Union(\\textbf{Set}, \\textbf{Set}) \\\\\n",
    "                 &           | & Subtraction(\\textbf{Set}, \\textbf{Set}) \\\\\n",
    "\\end{array}\n",
    "$$"
   ]
  },
  {
   "cell_type": "code",
   "execution_count": null,
   "metadata": {},
   "outputs": [],
   "source": [
    "sealed trait MySet\n",
    "case object Empty extends MySet\n",
    "case class Cons(s: MySet, n: Int) extends MySet\n",
    "case class Intersection(s1: MySet, s2: MySet) extends MySet\n",
    "case class Union(s1: MySet, s2: MySet) extends MySet\n",
    "case class Subtraction(s1: MySet, s2: MySet) extends MySet"
   ]
  },
  {
   "cell_type": "markdown",
   "metadata": {},
   "source": [
    "### Exercise: Interpreter\n",
    "\n",
    "Scala Set API -- https://docs.scala-lang.org/overviews/collections/sets.html\n",
    "\n",
    "Write an interpreter for the language of sets you've created. Some useful methods of Sets:\n",
    "\n",
    "```\n",
    "Set.+:           (Set[Int], Int)            => Set[Int]\n",
    "Set.intersect:   (Set[Int], Set[Int])       => Set[Int]\n",
    "Set.union:       (Set[Int], Set[Int])       => Set[Int]\n",
    "Set.diff:        (Set[Int], Set[Int])       => Set[Int]\n",
    "```"
   ]
  },
  {
   "cell_type": "code",
   "execution_count": null,
   "metadata": {},
   "outputs": [],
   "source": [
    "def eval(set_expression: MySet): Set[Int] = {\n",
    "    set_expression match {\n",
    "        case Empty => ???\n",
    "        case Cons(s, n) => ???\n",
    "        case Intersection(s1, s2) => ???\n",
    "        case Union(s1, s2) => ???\n",
    "        case Subtraction(s1, s2) => ???\n",
    "    }\n",
    "}"
   ]
  },
  {
   "cell_type": "code",
   "execution_count": null,
   "metadata": {},
   "outputs": [],
   "source": [
    "val set_1_2 = Cons(Cons(Empty, 1), 2)\n",
    "val set_1_2_3 = Cons(Cons(Cons(Empty, 1), 2), 3)\n",
    "val set_3 = Cons(Empty, 3)\n",
    "\n",
    "assert(eval(Empty) == Set())\n",
    "assert(eval(set_1_2) == Set(1, 2))\n",
    "assert(eval(Union(set_1_2, set_3)) == Set(1, 2, 3))\n",
    "assert(eval(Intersection(set_1_2, set_1_2_3)) == Set(1, 2))\n",
    "assert(eval(Subtraction(set_1_2, set_1_2_3)) == Set())"
   ]
  }
 ],
 "metadata": {
  "kernelspec": {
   "display_name": "Scala",
   "language": "scala",
   "name": "scala"
  },
  "language_info": {
   "codemirror_mode": "text/x-scala",
   "file_extension": ".sc",
   "mimetype": "text/x-scala",
   "name": "scala",
   "nbconvert_exporter": "script",
   "version": "2.13.3"
  }
 },
 "nbformat": 4,
 "nbformat_minor": 4
}

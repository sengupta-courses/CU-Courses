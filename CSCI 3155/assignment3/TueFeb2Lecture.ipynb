{
 "cells": [
  {
   "cell_type": "markdown",
   "id": "crude-rings",
   "metadata": {},
   "source": [
    "\n",
    "Let us recall the grammar for inductively defining numbers.\n",
    "\n",
    "$$\\textbf{NatNum} \\ \\rightarrow\\ Z$$\n",
    "$$  \\textbf{NatNum} \\ \\rightarrow\\ \\ Succ(\\textbf{NatNum}) $$\n",
    "\n",
    "\n",
    "NatNum => Succ(NatNum) => Succ(Succ(NatNum)) => Succ(Succ(Z))\n",
    "\n",
    "2 == Succ(Succ(Z))"
   ]
  },
  {
   "cell_type": "code",
   "execution_count": 49,
   "id": "adjustable-sending",
   "metadata": {},
   "outputs": [
    {
     "name": "stderr",
     "output_type": "stream",
     "text": [
      "cmd49.sc:17: value ++++ is not a member of Helper.this.NatNum\n",
      "         Succ( n ++++ n2  )   \n",
      "                 ^Compilation Failed"
     ]
    },
    {
     "ename": "",
     "evalue": "",
     "output_type": "error",
     "traceback": [
      "Compilation Failed"
     ]
    }
   ],
   "source": [
    "sealed trait NatNum {\n",
    "    def plus(n2: NatNum): NatNum // You can declare a signature of a function without defining it\n",
    "    def is_zero(): Boolean\n",
    "}\n",
    "\n",
    "case object Z extends NatNum {\n",
    "    def plus(n2: NatNum): NatNum = {\n",
    "        n2\n",
    "    }\n",
    "    def is_zero(): Boolean = {\n",
    "        true\n",
    "    }\n",
    "}\n",
    "\n",
    "case class Succ(n: NatNum) extends NatNum {\n",
    "    def plus(n2: NatNum): NatNum = {\n",
    "         Succ( n ++++ n2  )   \n",
    "    }\n",
    "    \n",
    "    def is_zero(): Boolean = {\n",
    "        false\n",
    "    }\n",
    "}"
   ]
  },
  {
   "cell_type": "code",
   "execution_count": 22,
   "id": "virtual-fisher",
   "metadata": {},
   "outputs": [
    {
     "data": {
      "text/plain": [
       "\u001b[36mone\u001b[39m: \u001b[32mSucc\u001b[39m = \u001b[33mSucc\u001b[39m(Z)\n",
       "\u001b[36mtwo\u001b[39m: \u001b[32mSucc\u001b[39m = \u001b[33mSucc\u001b[39m(\u001b[33mSucc\u001b[39m(Z))\n",
       "\u001b[36mthree\u001b[39m: \u001b[32mNatNum\u001b[39m = \u001b[33mSucc\u001b[39m(\u001b[33mSucc\u001b[39m(\u001b[33mSucc\u001b[39m(Z)))\n",
       "\u001b[36msix\u001b[39m: \u001b[32mNatNum\u001b[39m = \u001b[33mSucc\u001b[39m(\u001b[33mSucc\u001b[39m(\u001b[33mSucc\u001b[39m(\u001b[33mSucc\u001b[39m(\u001b[33mSucc\u001b[39m(\u001b[33mSucc\u001b[39m(Z))))))\n",
       "\u001b[36meight\u001b[39m: \u001b[32mNatNum\u001b[39m = \u001b[33mSucc\u001b[39m(\u001b[33mSucc\u001b[39m(\u001b[33mSucc\u001b[39m(\u001b[33mSucc\u001b[39m(\u001b[33mSucc\u001b[39m(\u001b[33mSucc\u001b[39m(\u001b[33mSucc\u001b[39m(\u001b[33mSucc\u001b[39m(Z))))))))\n",
       "\u001b[36mres21_5\u001b[39m: \u001b[32mBoolean\u001b[39m = true\n",
       "\u001b[36mres21_6\u001b[39m: \u001b[32mBoolean\u001b[39m = false\n",
       "\u001b[36meight_2\u001b[39m: \u001b[32mNatNum\u001b[39m = \u001b[33mSucc\u001b[39m(\u001b[33mSucc\u001b[39m(\u001b[33mSucc\u001b[39m(\u001b[33mSucc\u001b[39m(\u001b[33mSucc\u001b[39m(\u001b[33mSucc\u001b[39m(\u001b[33mSucc\u001b[39m(\u001b[33mSucc\u001b[39m(Z))))))))\n",
       "\u001b[36mres21_8\u001b[39m: \u001b[32mBoolean\u001b[39m = true"
      ]
     },
     "execution_count": 22,
     "metadata": {},
     "output_type": "execute_result"
    }
   ],
   "source": [
    "val one = Succ(Z)\n",
    "val two =  Succ(Succ(Z))\n",
    "val three = one.plus(two) \n",
    "val six = three.plus(three)\n",
    "\n",
    "val eight = six.plus(two)\n",
    "Z.is_zero()\n",
    "eight.is_zero()\n",
    "\n",
    "val eight_2 = three ++++ three ++++ two\n",
    "\n",
    "eight == eight_2"
   ]
  },
  {
   "cell_type": "code",
   "execution_count": 23,
   "id": "premium-investing",
   "metadata": {},
   "outputs": [
    {
     "data": {
      "text/plain": [
       "defined \u001b[32mfunction\u001b[39m \u001b[36misZeroNaturalNumber\u001b[39m"
      ]
     },
     "execution_count": 23,
     "metadata": {},
     "output_type": "execute_result"
    }
   ],
   "source": [
    "// Case Pattern Matching\n",
    "// scala version of switch --> way more powerful\n",
    "def isZeroNaturalNumber(n: NatNum): Boolean = {\n",
    "    n match {\n",
    "        case Z => { true }\n",
    "        case Succ(_) => { false }\n",
    "    }\n",
    "} "
   ]
  },
  {
   "cell_type": "code",
   "execution_count": 24,
   "id": "promising-monitoring",
   "metadata": {},
   "outputs": [
    {
     "data": {
      "text/plain": [
       "defined \u001b[32mfunction\u001b[39m \u001b[36mminusOne\u001b[39m"
      ]
     },
     "execution_count": 24,
     "metadata": {},
     "output_type": "execute_result"
    }
   ],
   "source": [
    "def minusOne(n: NatNum) : NatNum = {\n",
    "    n match {\n",
    "        case Z => { throw new IllegalArgumentException(\"How dare you ask me to take one away from someone who has NOTHING!!!!\")}\n",
    "        case Succ(n1) => { n1 }\n",
    "    }\n",
    "}"
   ]
  },
  {
   "cell_type": "code",
   "execution_count": 25,
   "id": "arbitrary-shoot",
   "metadata": {},
   "outputs": [
    {
     "data": {
      "text/plain": [
       "\u001b[36mseven\u001b[39m: \u001b[32mNatNum\u001b[39m = \u001b[33mSucc\u001b[39m(\u001b[33mSucc\u001b[39m(\u001b[33mSucc\u001b[39m(\u001b[33mSucc\u001b[39m(\u001b[33mSucc\u001b[39m(\u001b[33mSucc\u001b[39m(\u001b[33mSucc\u001b[39m(Z)))))))"
      ]
     },
     "execution_count": 25,
     "metadata": {},
     "output_type": "execute_result"
    }
   ],
   "source": [
    "val seven = minusOne(eight)"
   ]
  },
  {
   "cell_type": "code",
   "execution_count": 26,
   "id": "seasonal-realtor",
   "metadata": {},
   "outputs": [
    {
     "ename": "",
     "evalue": "",
     "output_type": "error",
     "traceback": [
      "\u001b[31mjava.lang.IllegalArgumentException: How dare you ask me to take one away from someone who has NOTHING!!!!\u001b[39m\n  ammonite.$sess.cmd23$Helper.minusOne(\u001b[32mcmd23.sc\u001b[39m:\u001b[32m3\u001b[39m)\n  ammonite.$sess.cmd25$Helper.<init>(\u001b[32mcmd25.sc\u001b[39m:\u001b[32m1\u001b[39m)\n  ammonite.$sess.cmd25$.<clinit>(\u001b[32mcmd25.sc\u001b[39m:\u001b[32m7\u001b[39m)"
     ]
    }
   ],
   "source": [
    "val mone = minusOne(Z)"
   ]
  },
  {
   "cell_type": "markdown",
   "id": "stopped-crowd",
   "metadata": {},
   "source": [
    "$$\\begin{array}{ccccc}\n",
    "\\textbf{NumList} & \\rightarrow & Nil &\\ |\\  & Cons(\\textbf{Num}, \\textbf{NumList}) \\\\\n",
    "\\textbf{Num} & \\rightarrow & \\cdots | \\ -2 \\ | \\ -1 \\ | \\ 0 \\ |\\ 1\\ |\\ 2\\ |\\ 3\\ |\\ 4\\ |\\ \\cdots \\\\\n",
    "\\end{array}$$\n",
    "\n",
    "Simplified:\n",
    "\n",
    "$$\\begin{array}{ccccc}\n",
    "\\textbf{NumList} & \\rightarrow & Nil &\\ |\\  & Cons(\\textbf{Integer}, \\textbf{NumList}) \\\\\n",
    "\\end{array}$$"
   ]
  },
  {
   "cell_type": "code",
   "execution_count": 57,
   "id": "atmospheric-standard",
   "metadata": {},
   "outputs": [
    {
     "data": {
      "text/plain": [
       "defined \u001b[32mtype\u001b[39m \u001b[36mInteger\u001b[39m\n",
       "defined \u001b[32mtrait\u001b[39m \u001b[36mNumList\u001b[39m\n",
       "defined \u001b[32mobject\u001b[39m \u001b[36mMyNil\u001b[39m\n",
       "defined \u001b[32mclass\u001b[39m \u001b[36mCons\u001b[39m"
      ]
     },
     "execution_count": 57,
     "metadata": {},
     "output_type": "execute_result"
    }
   ],
   "source": [
    "type Integer = Int\n",
    "\n",
    "sealed trait NumList\n",
    "case object MyNil extends NumList // Nil is already the constructor in scala for empty lists\n",
    "case class Cons(j: Integer, tail: NumList) extends NumList\n",
    "\n"
   ]
  },
  {
   "cell_type": "code",
   "execution_count": 59,
   "id": "confidential-election",
   "metadata": {},
   "outputs": [
    {
     "data": {
      "text/plain": [
       "\u001b[36ml0\u001b[39m: \u001b[32mCons\u001b[39m = \u001b[33mCons\u001b[39m(\u001b[32m21\u001b[39m, \u001b[33mCons\u001b[39m(\u001b[32m42\u001b[39m, MyNil))\n",
       "\u001b[36ml2\u001b[39m: \u001b[32mCons\u001b[39m = \u001b[33mCons\u001b[39m(\u001b[32m42\u001b[39m, \u001b[33mCons\u001b[39m(\u001b[32m21\u001b[39m, \u001b[33mCons\u001b[39m(\u001b[32m42\u001b[39m, MyNil)))"
      ]
     },
     "execution_count": 59,
     "metadata": {},
     "output_type": "execute_result"
    }
   ],
   "source": [
    "val l0 = Cons(21, Cons(42, MyNil))\n",
    "val l2 = Cons(42, l0)"
   ]
  },
  {
   "cell_type": "code",
   "execution_count": 27,
   "id": "electrical-prophet",
   "metadata": {},
   "outputs": [
    {
     "data": {
      "text/plain": [
       "\u001b[36mlst0\u001b[39m: \u001b[32mList\u001b[39m[\u001b[32mInt\u001b[39m] = \u001b[33mList\u001b[39m(\u001b[32m21\u001b[39m, \u001b[32m42\u001b[39m)\n",
       "\u001b[36mlst1\u001b[39m: \u001b[32mList\u001b[39m[\u001b[32mInt\u001b[39m] = \u001b[33mList\u001b[39m(\u001b[32m42\u001b[39m, \u001b[32m21\u001b[39m, \u001b[32m42\u001b[39m)"
      ]
     },
     "execution_count": 27,
     "metadata": {},
     "output_type": "execute_result"
    }
   ],
   "source": [
    "val lst0 = 21 ::  (42 :: Nil)\n",
    "val lst1 = 42 :: (21:: 42::Nil)"
   ]
  },
  {
   "cell_type": "code",
   "execution_count": 28,
   "id": "special-occupation",
   "metadata": {},
   "outputs": [
    {
     "data": {
      "text/plain": [
       "\u001b[36mlst2\u001b[39m: \u001b[32mList\u001b[39m[\u001b[32mInt\u001b[39m] = \u001b[33mList\u001b[39m(\u001b[32m21\u001b[39m, \u001b[32m42\u001b[39m, \u001b[32m42\u001b[39m, \u001b[32m21\u001b[39m, \u001b[32m42\u001b[39m)"
      ]
     },
     "execution_count": 28,
     "metadata": {},
     "output_type": "execute_result"
    }
   ],
   "source": [
    "val lst2 = lst0 ++ lst1"
   ]
  },
  {
   "cell_type": "code",
   "execution_count": 35,
   "id": "determined-domestic",
   "metadata": {},
   "outputs": [
    {
     "data": {
      "text/plain": [
       "defined \u001b[32mfunction\u001b[39m \u001b[36mlengthOfList\u001b[39m"
      ]
     },
     "execution_count": 35,
     "metadata": {},
     "output_type": "execute_result"
    }
   ],
   "source": [
    "def lengthOfList(lst: List[Int], acc:Int = 0): Int = lst match {\n",
    "    case Nil => { acc }\n",
    "    case head :: rest_of_list => { lengthOfList(rest_of_list, 1 + acc)}\n",
    "}"
   ]
  },
  {
   "cell_type": "code",
   "execution_count": 34,
   "id": "competitive-dictionary",
   "metadata": {},
   "outputs": [
    {
     "data": {
      "text/plain": [
       "\u001b[36mres33\u001b[39m: \u001b[32mInt\u001b[39m = \u001b[32m5\u001b[39m"
      ]
     },
     "execution_count": 34,
     "metadata": {},
     "output_type": "execute_result"
    }
   ],
   "source": [
    "//lst2 ~~>  21 :: List(42, 42, 21, 42)\n"
   ]
  },
  {
   "cell_type": "code",
   "execution_count": 36,
   "id": "adverse-wagner",
   "metadata": {},
   "outputs": [
    {
     "data": {
      "text/plain": [
       "defined \u001b[32mfunction\u001b[39m \u001b[36mlengthOfMyList\u001b[39m"
      ]
     },
     "execution_count": 36,
     "metadata": {},
     "output_type": "execute_result"
    }
   ],
   "source": [
    "def lengthOfMyList(lst: NumList): Int = lst match {\n",
    "    case MyNil => 0\n",
    "    case Cons(hd, tail) => 1 + lengthOfMyList(tail)\n",
    "}"
   ]
  },
  {
   "cell_type": "code",
   "execution_count": 42,
   "id": "binding-weather",
   "metadata": {},
   "outputs": [
    {
     "data": {
      "text/plain": [
       "\u001b[36mlst1\u001b[39m: \u001b[32mList\u001b[39m[\u001b[32mInt\u001b[39m] = \u001b[33mList\u001b[39m(\u001b[32m0\u001b[39m, \u001b[32m2\u001b[39m, \u001b[32m5\u001b[39m, \u001b[32m15\u001b[39m, \u001b[32m25\u001b[39m, \u001b[32m43\u001b[39m)\n",
       "\u001b[36mlst2\u001b[39m: \u001b[32mList\u001b[39m[\u001b[32mInt\u001b[39m] = \u001b[33mList\u001b[39m(\u001b[32m-2\u001b[39m, \u001b[32m3\u001b[39m, \u001b[32m-1\u001b[39m, \u001b[32m4\u001b[39m, \u001b[32m6\u001b[39m, \u001b[32m67\u001b[39m, \u001b[32m-2\u001b[39m)"
      ]
     },
     "execution_count": 42,
     "metadata": {},
     "output_type": "execute_result"
    }
   ],
   "source": [
    "// Check that a list is in ascending order\n",
    "val lst1 = List(0, 2, 5, 15, 25, 43)\n",
    "val lst2 = List(-2, 3, -1, 4, 6, 67, -2)"
   ]
  },
  {
   "cell_type": "code",
   "execution_count": 39,
   "id": "administrative-filling",
   "metadata": {},
   "outputs": [
    {
     "data": {
      "text/plain": [
       "defined \u001b[32mfunction\u001b[39m \u001b[36misListInAscOrder\u001b[39m"
      ]
     },
     "execution_count": 39,
     "metadata": {},
     "output_type": "execute_result"
    }
   ],
   "source": [
    "def isListInAscOrder(lst: List[Int]): Boolean =  lst match {\n",
    "    case Nil  => {true}\n",
    "    case hd :: Nil => { println(s\"Singleton $hd\" ); true}\n",
    "    case hd1:: ( tail1@(hd2 :: rest)) => {\n",
    "        if (hd1 > hd2) { false }\n",
    "        else {\n",
    "            isListInAscOrder( tail1 )\n",
    "        }\n",
    "    }\n",
    "}"
   ]
  },
  {
   "cell_type": "code",
   "execution_count": null,
   "id": "alike-progressive",
   "metadata": {},
   "outputs": [],
   "source": [
    "Nil\n",
    "int :: list "
   ]
  },
  {
   "cell_type": "code",
   "execution_count": 55,
   "id": "touched-distinction",
   "metadata": {},
   "outputs": [
    {
     "data": {
      "text/plain": [
       "defined \u001b[32mfunction\u001b[39m \u001b[36misListInAscOrder\u001b[39m"
      ]
     },
     "execution_count": 55,
     "metadata": {},
     "output_type": "execute_result"
    }
   ],
   "source": [
    "// Conditional \n",
    "def isListInAscOrder(lst: List[Int]): Boolean =  lst match {\n",
    "    case Nil => { true}\n",
    "    case _::Nil => { true }\n",
    "    case (hd1) ::((hd2) ::_) if hd2 < hd1 => { false }\n",
    "    case _::(tail2) => { isListInAscOrder(tail2)}\n",
    "}"
   ]
  },
  {
   "cell_type": "code",
   "execution_count": 56,
   "id": "apparent-edmonton",
   "metadata": {},
   "outputs": [
    {
     "data": {
      "text/plain": [
       "\u001b[36mres55\u001b[39m: \u001b[32mBoolean\u001b[39m = true"
      ]
     },
     "execution_count": 56,
     "metadata": {},
     "output_type": "execute_result"
    }
   ],
   "source": [
    "isListInAscOrder(List(2, 3,3))"
   ]
  },
  {
   "cell_type": "code",
   "execution_count": null,
   "id": "opening-sunrise",
   "metadata": {},
   "outputs": [],
   "source": []
  }
 ],
 "metadata": {
  "kernelspec": {
   "display_name": "Scala",
   "language": "scala",
   "name": "scala"
  },
  "language_info": {
   "codemirror_mode": "text/x-scala",
   "file_extension": ".sc",
   "mimetype": "text/x-scala",
   "name": "scala",
   "nbconvert_exporter": "script",
   "version": "2.13.3"
  }
 },
 "nbformat": 4,
 "nbformat_minor": 5
}

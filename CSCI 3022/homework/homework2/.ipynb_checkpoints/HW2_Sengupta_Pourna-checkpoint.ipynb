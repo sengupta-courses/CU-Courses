{
 "cells": [
  {
   "cell_type": "markdown",
   "metadata": {},
   "source": [
    "<a id='top'></a>\n",
    "\n",
    "# CSCI3022 S21\n",
    "# Homework 2: Data Wrangling and Visualizations\n",
    "***\n",
    "\n",
    "**Name**: Pourna Sengupta\n",
    "\n",
    "\n",
    "***\n",
    "\n",
    "This assignment is due on Canvas by **MIDNIGHT on Monday, February 8**. Your solutions to theoretical questions should be done in Markdown directly below the associated question.  Your solutions to computational questions should include any specified Python code and results as well as written commentary on your conclusions.  Remember that you are encouraged to discuss the problems with your classmates, but **you must write all code and solutions on your own**.\n",
    "\n",
    "**NOTES**: \n",
    "\n",
    "- Any relevant data sets should be available on Canvas. To make life easier on the graders if they need to run your code, do not change the relative path names here. Instead, move the files around on your computer.\n",
    "- If you're not familiar with typesetting math directly into Markdown then by all means, do your work on paper first and then typeset it later.  Here is a [reference guide](https://math.meta.stackexchange.com/questions/5020/mathjax-basic-tutorial-and-quick-reference) linked on Canvas on writing math in Markdown. **All** of your written commentary, justifications and mathematical work should be in Markdown.  I also recommend the [wikibook](https://en.wikibooks.org/wiki/LaTeX) for LaTex.\n",
    "- Because you can technically evaluate notebook cells is a non-linear order, it's a good idea to do **Kernel $\\rightarrow$ Restart & Run All** as a check before submitting your solutions.  That way if we need to run your code you will know that it will work as expected. \n",
    "- It is **bad form** to make your reader interpret numerical output from your code.  If a question asks you to compute some value from the data you should show your code output **AND** write a summary of the results in Markdown directly below your code. \n",
    "- 95 points of this assignment are in problems.  The remaining 5 are for neatness, style, and overall exposition of both code and text.\n",
    "- This probably goes without saying, but... For any question that asks you to calculate something, you **must show all work and justify your answers to receive credit**. Sparse or nonexistent work will receive sparse or nonexistent credit. \n",
    "\n",
    "---\n",
    "**Shortcuts:**  [Problem 1](#p1) | [Problem 2](#p2) |\n",
    "---"
   ]
  },
  {
   "cell_type": "code",
   "execution_count": 569,
   "metadata": {},
   "outputs": [],
   "source": [
    "import pandas as pd\n",
    "import numpy as np\n",
    "from numpy import percentile\n",
    "import seaborn as sb\n",
    "import matplotlib.pylab as plt\n",
    "%matplotlib inline"
   ]
  },
  {
   "cell_type": "markdown",
   "metadata": {},
   "source": [
    "[Back to top](#top)\n",
    "\n",
    "<a id='p1'></a>\n",
    "\n",
    "## (25 pts) Problem 1: Data (Probability and Histograms)\n",
    "*** \n",
    "The sinking of the RMS Titanic was a terrible tragedy that saw the loss of many lives. Even within this tragedy, thanks to the combinations of the records of the White Star Line and the thorough nature of follow-up research after the accident we have some records that can help us try to piece together the course of events on board the ship. Many of the historians and other researchers who have investigated this event have speculated as to what exactly happened.\n",
    "\n",
    "We have the data on survival rates by class, gender, and age, so let's figure out whether there is evidence for some of these scenarios. Access the Titanic data in `titanic_data.csv` and store it in a Pandas DataFrame. The data contains information pertaining to class status (**Pclass**), survival (**Survived**), and gender (**Sex**) of passengers, among other things. Be sure to use the `titanic_data.csv` data set, *not* the `clean_titanic_data` file or `dirty_titanic_data` file from the in-class notebook exercises."
   ]
  },
  {
   "cell_type": "code",
   "execution_count": 570,
   "metadata": {},
   "outputs": [
    {
     "data": {
      "text/html": [
       "<div>\n",
       "<style scoped>\n",
       "    .dataframe tbody tr th:only-of-type {\n",
       "        vertical-align: middle;\n",
       "    }\n",
       "\n",
       "    .dataframe tbody tr th {\n",
       "        vertical-align: top;\n",
       "    }\n",
       "\n",
       "    .dataframe thead th {\n",
       "        text-align: right;\n",
       "    }\n",
       "</style>\n",
       "<table border=\"1\" class=\"dataframe\">\n",
       "  <thead>\n",
       "    <tr style=\"text-align: right;\">\n",
       "      <th></th>\n",
       "      <th>PassengerId</th>\n",
       "      <th>Survived</th>\n",
       "      <th>Pclass</th>\n",
       "      <th>Name</th>\n",
       "      <th>Sex</th>\n",
       "      <th>Age</th>\n",
       "      <th>SibSp</th>\n",
       "      <th>Parch</th>\n",
       "      <th>Ticket</th>\n",
       "      <th>Fare</th>\n",
       "      <th>Cabin</th>\n",
       "      <th>Embarked</th>\n",
       "    </tr>\n",
       "  </thead>\n",
       "  <tbody>\n",
       "    <tr>\n",
       "      <th>0</th>\n",
       "      <td>1</td>\n",
       "      <td>0</td>\n",
       "      <td>3</td>\n",
       "      <td>Braund, Mr. Owen Harris</td>\n",
       "      <td>male</td>\n",
       "      <td>36.0</td>\n",
       "      <td>1</td>\n",
       "      <td>0</td>\n",
       "      <td>A/5 21171</td>\n",
       "      <td>7.2500</td>\n",
       "      <td>NaN</td>\n",
       "      <td>S</td>\n",
       "    </tr>\n",
       "    <tr>\n",
       "      <th>1</th>\n",
       "      <td>2</td>\n",
       "      <td>1</td>\n",
       "      <td>1</td>\n",
       "      <td>Cumings, Mrs. John Bradley (Florence Briggs Th...</td>\n",
       "      <td>female</td>\n",
       "      <td>18.0</td>\n",
       "      <td>1</td>\n",
       "      <td>0</td>\n",
       "      <td>PC 17599</td>\n",
       "      <td>71.2833</td>\n",
       "      <td>C85</td>\n",
       "      <td>C</td>\n",
       "    </tr>\n",
       "    <tr>\n",
       "      <th>2</th>\n",
       "      <td>3</td>\n",
       "      <td>1</td>\n",
       "      <td>3</td>\n",
       "      <td>Heikkinen, Miss. Laina</td>\n",
       "      <td>female</td>\n",
       "      <td>14.0</td>\n",
       "      <td>0</td>\n",
       "      <td>0</td>\n",
       "      <td>STON/O2. 3101282</td>\n",
       "      <td>7.9250</td>\n",
       "      <td>NaN</td>\n",
       "      <td>S</td>\n",
       "    </tr>\n",
       "    <tr>\n",
       "      <th>3</th>\n",
       "      <td>4</td>\n",
       "      <td>1</td>\n",
       "      <td>1</td>\n",
       "      <td>Futrelle, Mrs. Jacques Heath (Lily May Peel)</td>\n",
       "      <td>female</td>\n",
       "      <td>27.0</td>\n",
       "      <td>1</td>\n",
       "      <td>0</td>\n",
       "      <td>113803</td>\n",
       "      <td>53.1000</td>\n",
       "      <td>C123</td>\n",
       "      <td>S</td>\n",
       "    </tr>\n",
       "    <tr>\n",
       "      <th>4</th>\n",
       "      <td>5</td>\n",
       "      <td>0</td>\n",
       "      <td>3</td>\n",
       "      <td>Allen, Mr. William Henry</td>\n",
       "      <td>male</td>\n",
       "      <td>63.0</td>\n",
       "      <td>0</td>\n",
       "      <td>0</td>\n",
       "      <td>373450</td>\n",
       "      <td>8.0500</td>\n",
       "      <td>NaN</td>\n",
       "      <td>S</td>\n",
       "    </tr>\n",
       "  </tbody>\n",
       "</table>\n",
       "</div>"
      ],
      "text/plain": [
       "   PassengerId  Survived  Pclass  \\\n",
       "0            1         0       3   \n",
       "1            2         1       1   \n",
       "2            3         1       3   \n",
       "3            4         1       1   \n",
       "4            5         0       3   \n",
       "\n",
       "                                                Name     Sex   Age  SibSp  \\\n",
       "0                            Braund, Mr. Owen Harris    male  36.0      1   \n",
       "1  Cumings, Mrs. John Bradley (Florence Briggs Th...  female  18.0      1   \n",
       "2                             Heikkinen, Miss. Laina  female  14.0      0   \n",
       "3       Futrelle, Mrs. Jacques Heath (Lily May Peel)  female  27.0      1   \n",
       "4                           Allen, Mr. William Henry    male  63.0      0   \n",
       "\n",
       "   Parch            Ticket     Fare Cabin Embarked  \n",
       "0      0         A/5 21171   7.2500   NaN        S  \n",
       "1      0          PC 17599  71.2833   C85        C  \n",
       "2      0  STON/O2. 3101282   7.9250   NaN        S  \n",
       "3      0            113803  53.1000  C123        S  \n",
       "4      0            373450   8.0500   NaN        S  "
      ]
     },
     "execution_count": 570,
     "metadata": {},
     "output_type": "execute_result"
    }
   ],
   "source": [
    "filepath = '/Users/pournasengupta/Dropbox/csci3022/homework/homework2/titanic_data.csv'\n",
    "df = pd.read_csv(filepath)\n",
    "df.head()"
   ]
  },
  {
   "cell_type": "markdown",
   "metadata": {},
   "source": [
    "**Part A**:\n",
    "Based on the overall population of passengers, report the probability of survival.\n",
    "\n",
    "$$P(Survived=1)$$"
   ]
  },
  {
   "cell_type": "code",
   "execution_count": 571,
   "metadata": {},
   "outputs": [
    {
     "name": "stdout",
     "output_type": "stream",
     "text": [
      "39.28170594837261 %\n"
     ]
    }
   ],
   "source": [
    "#Your Code here\n",
    "def chanceOfSurvival(): \n",
    "    numS = df[\"Survived\"].tolist()\n",
    "    population = df.shape[0]\n",
    "    count = 0\n",
    "    r = range(0, population)\n",
    "    for i in r: \n",
    "        if (numS[i] == 1):\n",
    "            count += 1\n",
    "    \n",
    "    probability = (count / population) * 100\n",
    "        \n",
    "    print(probability,\"%\")\n",
    "    \n",
    "    \n",
    "chanceOfSurvival()"
   ]
  },
  {
   "cell_type": "markdown",
   "metadata": {},
   "source": [
    "**Part B**: \n",
    "Some claim that the final hours aboard the RMS Titanic were marked by \"class warfare\" in which the people with first-class tickets took all the good spots on the lifeboats; others claim that the final hours were characterized by male chivalry, in which the men valiantly gave up their positions in the boats and succumbed bravely to the depths of the Atlantic. \n",
    "\n",
    "Consider the two claims: class warfare, and male chivalry. Suppose that class warfare occurred in the final hours aboard the Titanic.  What patterns might you expect to see in the data?  Suppose that male chivalry was widespread during the final hours instead. What patterns might you then expect to see in the data?  Explain both of these hypothesized patterns in words. Are these two hypotheses mutually exclusive or not?"
   ]
  },
  {
   "cell_type": "markdown",
   "metadata": {},
   "source": [
    "**Typeset your responses here**\n",
    "\n",
    "If class warfare took place, most survivors would be in class 1, a few may be in class 2, but it would be expected that almost none of the survivors were in class 3. If male chivlary took place, the majority of survivors are expected to be female and children, and most of the men would have died. These cases are not mutually exclusive. It is completely possible that the majority of survivors were both class 1 passengers and female or children. This would mean that though female and children were given priority, leaving most of the males to perish, those in class 1 received priority, and if there was not enough lifeboats, those in class 2 and 3 would be less likely to secure a lifeboat spot and survive. "
   ]
  },
  {
   "cell_type": "markdown",
   "metadata": {},
   "source": [
    "**Part C**: Use Pandas methods to create a clean data set by removing any rows from the DataFrame that are missing values corresponding to **Survived**, **Pclass**, **Age**, or **Sex**. Store the clean data in a DataFrame called dfTitanic. Be sure to show any exploratory work determining if/where there are rows with missing values. _HINT: There should be 714 rows in your cleaned data set._"
   ]
  },
  {
   "cell_type": "code",
   "execution_count": 572,
   "metadata": {},
   "outputs": [
    {
     "name": "stdout",
     "output_type": "stream",
     "text": [
      "Titanic data frame length: 891 \n",
      "Clean Titanic data frame length: 714 \n",
      "# of Rows Removed:  177\n"
     ]
    }
   ],
   "source": [
    "#Your Code here\n",
    "dfTitanic = df.dropna(subset=['Survived', 'Pclass', 'Age', 'Sex'])\n",
    "print(\"Titanic data frame length:\", len(df), \"\\nClean Titanic data frame length:\", len(dfTitanic), \"\\n# of Rows Removed: \", (len(df) - len(dfTitanic)))\n",
    "            "
   ]
  },
  {
   "cell_type": "markdown",
   "metadata": {},
   "source": [
    "**Part D**: Compute the probability of survival according to class, gender, and all combinations of the two variables.  Then, answer the following questions:\n",
    "* **(i)** When reviewing class survival probability, how do the results compare to the base survival probability results from **Part A**?\n",
    "* **(ii)** When reviewing gender survival probability, how do the results compare to the base survival probability results from **Part A**?\n",
    "* **(iii)** Within each passenger class, were men or women more/less/equally likely to survive?\n",
    "* **(iv)**  Did men in first class or women in third class have a higher survival probability?\n"
   ]
  },
  {
   "cell_type": "code",
   "execution_count": 573,
   "metadata": {},
   "outputs": [
    {
     "name": "stdout",
     "output_type": "stream",
     "text": [
      "First Class:  15.375982042648708 %\n",
      "Second Class:  10.1010101010101 %\n",
      "Third Class:  13.804713804713806 %\n",
      "\n",
      "Male:  12.794612794612794 %\n",
      "Female:  26.487093153759822 %\n",
      "\n",
      "First Class \n",
      " ----------------- \n",
      " Male:  5.16273849607183 %\n",
      "Female:  10.21324354657688 %\n",
      "\n",
      "Second Class \n",
      " ----------------- \n",
      " Male:  2.132435465768799 %\n",
      "Female:  7.968574635241302 %\n",
      "\n",
      "Third Class \n",
      " ----------------- \n",
      " Male:  5.499438832772166 %\n",
      "Female:  8.305274971941639 %\n",
      "\n"
     ]
    }
   ],
   "source": [
    "#Your Code here\n",
    "ifSurvived = df[\"Survived\"].tolist()\n",
    "population = df.shape[0]\n",
    "classP = df[\"Pclass\"].tolist()\n",
    "genderP = df[\"Sex\"].tolist()\n",
    "\n",
    "    \n",
    "def survivalClass(): \n",
    "    first = 0\n",
    "    second = 0\n",
    "    third = 0\n",
    "    r = range(0, population)\n",
    "    for i in r: \n",
    "        if (ifSurvived[i] == 1):\n",
    "            if (classP[i] == 1):\n",
    "                first += 1\n",
    "            elif (classP[i] == 2): \n",
    "                second += 1\n",
    "            else:\n",
    "                third += 1\n",
    "    \n",
    "    pFirst = (first / population) * 100\n",
    "    pSecond = (second / population) * 100\n",
    "    pThird = (third / population) * 100\n",
    "        \n",
    "    print(\"First Class: \", pFirst, \"%\\nSecond Class: \", pSecond, \"%\\nThird Class: \", pThird, \"%\\n\")\n",
    "    \n",
    "    \n",
    "def survivalGender(): \n",
    "    male = 0\n",
    "    female = 0\n",
    "    r = range(0, population)\n",
    "    for i in r: \n",
    "        if (ifSurvived[i] == 1): \n",
    "            if(genderP[i] == \"male\"): \n",
    "                male += 1\n",
    "            else: \n",
    "                female += 1\n",
    "    pMale = (male / population) * 100 \n",
    "    pFemale = (female / population) * 100\n",
    "    \n",
    "    print(\"Male: \", pMale, \"%\\nFemale: \", pFemale, \"%\\n\")\n",
    "    \n",
    "def survivalCombo(): \n",
    "    firstM = 0\n",
    "    secondM = 0\n",
    "    thirdM = 0\n",
    "    firstF = 0\n",
    "    secondF = 0 \n",
    "    thirdF = 0\n",
    "    \n",
    "    r = range(0, population)\n",
    "    for i in r: \n",
    "        if(ifSurvived[i] == 1):\n",
    "            if(genderP[i] == \"male\"): \n",
    "                if (classP[i] == 1):\n",
    "                    firstM += 1\n",
    "                elif (classP[i] == 2): \n",
    "                    secondM += 1\n",
    "                else:\n",
    "                    thirdM += 1\n",
    "                    \n",
    "            else: \n",
    "                if (classP[i] == 1):\n",
    "                    firstF += 1\n",
    "                elif (classP[i] == 2): \n",
    "                    secondF += 1\n",
    "                else:\n",
    "                    thirdF += 1\n",
    "     \n",
    "    pMale1 = (firstM / population) * 100 \n",
    "    pMale2 = (secondM / population) * 100\n",
    "    pMale3 = (thirdM / population) * 100\n",
    "    \n",
    "    pFem1 = (firstF / population) * 100\n",
    "    pFem2 = (secondF / population) * 100\n",
    "    pFem3 = (thirdF / population) * 100\n",
    "    \n",
    "    print(\"First Class \\n ----------------- \\n Male: \", pMale1, \"%\\nFemale: \", pFem1, \"%\\n\")\n",
    "    print(\"Second Class \\n ----------------- \\n Male: \", pMale2, \"%\\nFemale: \", pFem2, \"%\\n\")\n",
    "    print(\"Third Class \\n ----------------- \\n Male: \", pMale3, \"%\\nFemale: \", pFem3, \"%\\n\")\n",
    "survivalClass()\n",
    "survivalGender()\n",
    "survivalCombo()"
   ]
  },
  {
   "cell_type": "markdown",
   "metadata": {},
   "source": [
    "**Typeset your responses here**\n",
    "\n",
    "Base Survival Probability: 39.28% \n",
    "\n",
    "(i) The sum of the first, second, and third class survival probabilities is equal to the base survival probability. This makes sense because even though the population is divided into these 3 (passenger class) categories instead of the 2 in the base case (if the passenger survived, 1/0), the percentage of the population that survived does not change. \n",
    "\n",
    "(ii) Similarly, the sum of the gender probabilities also equals the base survival probability for the same reason. \n",
    "\n",
    "(iii) In this case, there are 2 notable sums. The first is the sum of the male and female probabilities for each class. The sum of these probabilities (ex. 1st class Male + Female) is equal to the survival probability of the first class as a whole. The second sum is the sum of each of the class/gender sums. This sum equals 39.28%, as expected since all surviving passengers are included in the probability. "
   ]
  },
  {
   "cell_type": "markdown",
   "metadata": {},
   "source": [
    "**Part E**: One might wonder how a passenger's age is related to the likelihood that they would survive the Titanic disaster. In addition to the \"male chivalry\" argument outlined above, you can perhaps imagine an addendum - \"women and children first!\" - as the cry to ring out across the decks. Or you might imagine the opposite - rather than \"class warfare\", it is simply healthy adults fighting to take lifeboat spots for themselves.\n",
    "\n",
    "To answer this question graphically, plot two density histograms on the same set of axes, showing the distribution of the ages of passengers who survived, and the distribution of the ages of passengers who did not. \n",
    "* Use the bin edges $[0,5,10,\\ldots,70,75,80]$ for both histograms.\n",
    "* To better distinguish between our populations, we will represent survivors with `navy` (as they were eventually rescued by ships) and those who passed away with `sandybrown`.\n",
    "* Plot both histograms on a single set of axes (there should be only one panel in the figure you create), but use Matplotlib/Pandas plotting functionality to make the faces of the histogram boxes somewhat transparent, so both histograms are visible.\n",
    "* Include a legend and label your axes.\n",
    "* Comment on the results. Does your figure suggest that some age ranges are more or less likely to have survived the disaster than other ages? Fully explain your reasoning and use your figure to justify your conclusions.\n",
    "* If you noticed some relationship between age and likelihood of survival, what is one possible explanation?"
   ]
  },
  {
   "cell_type": "code",
   "execution_count": 574,
   "metadata": {},
   "outputs": [
    {
     "data": {
      "image/png": "[encoded data removed]",
      "text/plain": [
       "<Figure size 432x288 with 1 Axes>"
      ]
     },
     "metadata": {
      "needs_background": "light"
     },
     "output_type": "display_data"
    }
   ],
   "source": [
    "my_bins = range(0,80,5)\n",
    "#Your Code here\n",
    "ages = df[\"Age\"].tolist()\n",
    "\n",
    "\n",
    "\n",
    "dfByAge = df.drop(['PassengerId', 'Pclass', 'Name', 'Sex', 'SibSp', 'Parch', 'Ticket', 'Fare', 'Cabin', 'Embarked'], axis = 1)\n",
    "dfSurvived = dfByAge[dfByAge.Survived == 1]\n",
    "dfDied = dfByAge[dfByAge.Survived == 0]\n",
    "#print(dfByAge)   \n",
    "#print(dfSurvived)\n",
    "#print(dfDied)\n",
    "\n",
    "#navy fc=(2, 69, 151, 0.58)\n",
    "#sandybrown fc=(161, 113, 2, 0.58)\n",
    "def plotSurvived(): \n",
    "    sb.distplot(dfSurvived['Age'], hist=False, kde=True, \n",
    "             bins=my_bins, color='navy', \n",
    "             hist_kws={'edgecolor':'black'},\n",
    "             kde_kws={'shade': True, 'linewidth': 4})\n",
    "    \n",
    "def plotDied():\n",
    "    sb.distplot(dfDied['Age'], hist=False, kde=True, \n",
    "             bins=my_bins, color='sandybrown', \n",
    "             hist_kws={'edgecolor':'black'},\n",
    "             kde_kws={'shade': True, 'linewidth': 4})\n",
    "    \n",
    "    \n",
    "plotSurvived()\n",
    "plotDied()"
   ]
  },
  {
   "cell_type": "code",
   "execution_count": 575,
   "metadata": {},
   "outputs": [
    {
     "data": {
      "image/png": "[encoded data removed]",
      "text/plain": [
       "<Figure size 432x288 with 1 Axes>"
      ]
     },
     "metadata": {
      "needs_background": "light"
     },
     "output_type": "display_data"
    }
   ],
   "source": [
    "def plotSurvived(): \n",
    "    sb.distplot(dfSurvived['Age'], hist=True, kde=True, \n",
    "             bins=my_bins, color='navy', \n",
    "             hist_kws={'edgecolor':'black'},\n",
    "             kde_kws={'shade': True, 'linewidth': 4})\n",
    "    \n",
    "plotSurvived()\n"
   ]
  },
  {
   "cell_type": "code",
   "execution_count": 576,
   "metadata": {},
   "outputs": [
    {
     "data": {
      "image/png": "[encoded data removed]",
      "text/plain": [
       "<Figure size 432x288 with 1 Axes>"
      ]
     },
     "metadata": {
      "needs_background": "light"
     },
     "output_type": "display_data"
    }
   ],
   "source": [
    "\n",
    "def plotDied():\n",
    "    sb.distplot(dfDied['Age'], hist=True, kde=True, \n",
    "             bins=my_bins, color='sandybrown', \n",
    "             hist_kws={'edgecolor':'black'},\n",
    "             kde_kws={'shade': True, 'linewidth': 4})\n",
    "    \n",
    "    \n",
    "plotDied()"
   ]
  },
  {
   "cell_type": "code",
   "execution_count": 577,
   "metadata": {},
   "outputs": [
    {
     "data": {
      "image/png": "[encoded data removed]",
      "text/plain": [
       "<Figure size 432x288 with 1 Axes>"
      ]
     },
     "metadata": {
      "needs_background": "light"
     },
     "output_type": "display_data"
    }
   ],
   "source": [
    "def plotSurvived(): \n",
    "    sb.distplot(dfSurvived['Age'], hist=True, kde=True, \n",
    "             bins=my_bins, color='navy', \n",
    "             hist_kws={'edgecolor':'black'},\n",
    "             kde_kws={'shade': True, 'linewidth': 4})\n",
    "    \n",
    "def plotDied():\n",
    "    sb.distplot(dfDied['Age'], hist=True, kde=True, \n",
    "             bins=my_bins, color='sandybrown', \n",
    "             hist_kws={'edgecolor':'black'},\n",
    "             kde_kws={'shade': True, 'linewidth': 4})\n",
    "    \n",
    "    \n",
    "plotSurvived()\n",
    "plotDied()"
   ]
  },
  {
   "cell_type": "markdown",
   "metadata": {},
   "source": [
    "**Typeset your responses here**\n",
    "The histogram above suggests that passengers between the ages of 55 and 70 were more likely to survive than those of a younger or older age. This is seen by the difference between the number of surviving and deceased passengers. \n",
    "\n",
    "Example: For those between 30 and 35 years old, for every passenger that survived, two others perished. Instead, for those between the ages of 55 and 70, about only one passenger for every "
   ]
  },
  {
   "cell_type": "markdown",
   "metadata": {},
   "source": [
    "**Part F:** In Part E, we plotted two *density* histograms, showing the distributions of ages of passengers that survived or did not survive the Titanic disaster. Why would it be misleading for us to have plotted these as *frequency* histograms instead?"
   ]
  },
  {
   "cell_type": "markdown",
   "metadata": {},
   "source": [
    "**Typeset your responses here**\n",
    "A frequency histogram would be the number of passengers in each bin on the y axis. The sum of all y values would equal the total number of passengers. In a density histogram, the y values are the density (# of X y/o survivors / total passengers). The sum of all y values in a density histogram equals 1. "
   ]
  },
  {
   "cell_type": "markdown",
   "metadata": {},
   "source": [
    "**Part G**: Do the data suggest class warfare, male chivalry, age bias, or some combination of these characteristics in the final hours aboard the Titanic?  Justify your conclusions based on the computations done above, or do any other analysis that you like, but be sure to clearly justify your conclusions."
   ]
  },
  {
   "cell_type": "markdown",
   "metadata": {},
   "source": [
    "**Typeset your responses here**\n",
    "Based off the data analysis from the computations done above, it seems that there was some class warfare and male chivalry. Men of all classes were less likely to survive than women in any all gender and class combinations. Women in first class were more likely to survive than those in second and third classes, and women in the second class were least likely to survive out of the 3. Overall a mix of both male chivlary and class warfare resulted in first class women have the highest likelihood of survival. "
   ]
  },
  {
   "cell_type": "markdown",
   "metadata": {},
   "source": [
    "[Back to top](#top)\n",
    "<a/ id='p2'></a>\n",
    "\n",
    "## (20 pts) Problem 2: Data (Box Plots and Outliers)\n",
    "***\n",
    "\n",
    "NOAA's Physical Sciences division (https://www.esrl.noaa.gov/psd) houses an enormous amount of weather data.  Load `BoulderPrecip.csv` from the course page for the last 120 years of monthly precipitation data from Boulder.  Let's take a look!"
   ]
  },
  {
   "cell_type": "code",
   "execution_count": 578,
   "metadata": {},
   "outputs": [
    {
     "data": {
      "text/html": [
       "<div>\n",
       "<style scoped>\n",
       "    .dataframe tbody tr th:only-of-type {\n",
       "        vertical-align: middle;\n",
       "    }\n",
       "\n",
       "    .dataframe tbody tr th {\n",
       "        vertical-align: top;\n",
       "    }\n",
       "\n",
       "    .dataframe thead th {\n",
       "        text-align: right;\n",
       "    }\n",
       "</style>\n",
       "<table border=\"1\" class=\"dataframe\">\n",
       "  <thead>\n",
       "    <tr style=\"text-align: right;\">\n",
       "      <th></th>\n",
       "      <th>Year</th>\n",
       "      <th>JAN</th>\n",
       "      <th>FEB</th>\n",
       "      <th>MAR</th>\n",
       "      <th>APR</th>\n",
       "      <th>MAY</th>\n",
       "      <th>JUN</th>\n",
       "      <th>JUL</th>\n",
       "      <th>AUG</th>\n",
       "      <th>SEP</th>\n",
       "      <th>OCT</th>\n",
       "      <th>NOV</th>\n",
       "      <th>DEC</th>\n",
       "      <th>YEAR TOTAL</th>\n",
       "    </tr>\n",
       "  </thead>\n",
       "  <tbody>\n",
       "    <tr>\n",
       "      <th>0</th>\n",
       "      <td>1900</td>\n",
       "      <td>0.40</td>\n",
       "      <td>1.06</td>\n",
       "      <td>0.75</td>\n",
       "      <td>9.18</td>\n",
       "      <td>1.84</td>\n",
       "      <td>0.49</td>\n",
       "      <td>0.48</td>\n",
       "      <td>0.22</td>\n",
       "      <td>1.54</td>\n",
       "      <td>0.13</td>\n",
       "      <td>0.19</td>\n",
       "      <td>0.61</td>\n",
       "      <td>16.89</td>\n",
       "    </tr>\n",
       "    <tr>\n",
       "      <th>1</th>\n",
       "      <td>1901</td>\n",
       "      <td>0.53</td>\n",
       "      <td>0.30</td>\n",
       "      <td>1.74</td>\n",
       "      <td>3.51</td>\n",
       "      <td>1.62</td>\n",
       "      <td>1.76</td>\n",
       "      <td>0.46</td>\n",
       "      <td>1.69</td>\n",
       "      <td>0.16</td>\n",
       "      <td>0.65</td>\n",
       "      <td>Tr</td>\n",
       "      <td>1.43</td>\n",
       "      <td>13.85</td>\n",
       "    </tr>\n",
       "    <tr>\n",
       "      <th>2</th>\n",
       "      <td>1902</td>\n",
       "      <td>0.37</td>\n",
       "      <td>0.48</td>\n",
       "      <td>1.48</td>\n",
       "      <td>1.01</td>\n",
       "      <td>2.32</td>\n",
       "      <td>1.46</td>\n",
       "      <td>1.26</td>\n",
       "      <td>0.53</td>\n",
       "      <td>5.46</td>\n",
       "      <td>1.44</td>\n",
       "      <td>1.29</td>\n",
       "      <td>1.34</td>\n",
       "      <td>18.44</td>\n",
       "    </tr>\n",
       "    <tr>\n",
       "      <th>3</th>\n",
       "      <td>1903</td>\n",
       "      <td>0.08</td>\n",
       "      <td>1.52</td>\n",
       "      <td>1.45</td>\n",
       "      <td>2.31</td>\n",
       "      <td>2.02</td>\n",
       "      <td>1.87</td>\n",
       "      <td>0.95</td>\n",
       "      <td>1.46</td>\n",
       "      <td>1.31</td>\n",
       "      <td>3.43</td>\n",
       "      <td>0.15</td>\n",
       "      <td>0.16</td>\n",
       "      <td>16.71</td>\n",
       "    </tr>\n",
       "    <tr>\n",
       "      <th>4</th>\n",
       "      <td>1904</td>\n",
       "      <td>0.09</td>\n",
       "      <td>0.31</td>\n",
       "      <td>2.37</td>\n",
       "      <td>1.45</td>\n",
       "      <td>5.35</td>\n",
       "      <td>2.72</td>\n",
       "      <td>1.05</td>\n",
       "      <td>1.00</td>\n",
       "      <td>1.60</td>\n",
       "      <td>1.06</td>\n",
       "      <td>0.08</td>\n",
       "      <td>0.70</td>\n",
       "      <td>17.78</td>\n",
       "    </tr>\n",
       "  </tbody>\n",
       "</table>\n",
       "</div>"
      ],
      "text/plain": [
       "   Year   JAN   FEB   MAR   APR   MAY   JUN   JUL   AUG   SEP   OCT   NOV  \\\n",
       "0  1900  0.40  1.06  0.75  9.18  1.84  0.49  0.48  0.22  1.54  0.13  0.19   \n",
       "1  1901  0.53  0.30  1.74  3.51  1.62  1.76  0.46  1.69  0.16  0.65    Tr   \n",
       "2  1902  0.37  0.48  1.48  1.01  2.32  1.46  1.26  0.53  5.46  1.44  1.29   \n",
       "3  1903  0.08  1.52  1.45  2.31  2.02  1.87  0.95  1.46  1.31  3.43  0.15   \n",
       "4  1904  0.09  0.31  2.37  1.45  5.35  2.72  1.05  1.00  1.60  1.06  0.08   \n",
       "\n",
       "    DEC  YEAR TOTAL  \n",
       "0  0.61       16.89  \n",
       "1  1.43       13.85  \n",
       "2  1.34       18.44  \n",
       "3  0.16       16.71  \n",
       "4  0.70       17.78  "
      ]
     },
     "execution_count": 578,
     "metadata": {},
     "output_type": "execute_result"
    }
   ],
   "source": [
    "dfPrecip = pd.read_csv('/Users/pournasengupta/Dropbox/csci3022/homework/homework2/boulder_precip_12021.csv')\n",
    "dfPrecip.head()\n"
   ]
  },
  {
   "cell_type": "markdown",
   "metadata": {},
   "source": [
    "**Part A:** SCRUBBING!  Our data set is going to be tough to use for a few reasons.\n",
    "\n",
    "1) When the amount of precipitation was nonzero but too small to be recorded, this data set recorded `tr`.  Replace these with zeroes.\n",
    "\n",
    "2) 2021 isn't over yet!  We have one row at the bottom that isn't fully complete and blank values are filling the months that haven't happened yet.  This can wreak havoc on some of our methods!  **Drop** the 2021 data entirely.\n",
    "\n",
    "3) You may have some object typing issues relating to columns that contained both \"Tr\"/\"NA\" and numeric values.  Ensure that Python is treating all of your data as numeric! (see `df.dtypes`)"
   ]
  },
  {
   "cell_type": "code",
   "execution_count": 579,
   "metadata": {},
   "outputs": [
    {
     "name": "stdout",
     "output_type": "stream",
     "text": [
      "      JAN   FEB   MAR   APR   MAY   JUN   JUL   AUG   SEP   OCT   NOV   DEC\n",
      "0    0.40  1.06  0.75  9.18  1.84  0.49  0.48  0.22  1.54  0.13  0.19  0.61\n",
      "2    0.37  0.48  1.48  1.01  2.32  1.46  1.26  0.53  5.46  1.44  1.29  1.34\n",
      "3    0.08  1.52  1.45  2.31  2.02  1.87  0.95  1.46  1.31  3.43  0.15  0.16\n",
      "4    0.09  0.31  2.37  1.45  5.35  2.72  1.05  1.00  1.60  1.06  0.08  0.70\n",
      "5    0.81  0.70  1.85  6.65  4.78  0.55  1.86  0.22  1.64  2.54  0.23  0.00\n",
      "..    ...   ...   ...   ...   ...   ...   ...   ...   ...   ...   ...   ...\n",
      "116  0.37  1.44  3.84  3.34  2.01  2.37  0.61  1.06  0.45  0.38  0.47  0.91\n",
      "117  1.41  0.73  1.45  3.15  6.29  0.45  1.30  1.62  1.92  2.42  0.57  0.68\n",
      "118  0.74  1.04  2.23  1.35  4.76  1.82  1.84  0.24  1.02  2.68  1.19  0.34\n",
      "119  1.57  0.74  2.83  1.87  3.89  2.12  2.21  0.10  0.56  2.42  2.38  0.35\n",
      "120  0.00  2.19  2.88  3.17  2.30  2.10  0.34  0.48  1.56  0.77  0.79  0.52\n",
      "\n",
      "[120 rows x 12 columns]\n"
     ]
    },
    {
     "data": {
      "text/plain": [
       "JAN    float64\n",
       "FEB    float64\n",
       "MAR    float64\n",
       "APR    float64\n",
       "MAY    float64\n",
       "JUN    float64\n",
       "JUL    float64\n",
       "AUG    float64\n",
       "SEP    float64\n",
       "OCT    float64\n",
       "NOV    float64\n",
       "DEC    float64\n",
       "dtype: object"
      ]
     },
     "execution_count": 579,
     "metadata": {},
     "output_type": "execute_result"
    }
   ],
   "source": [
    "#Your code here\n",
    "\n",
    "def replaceTr(): \n",
    "    years = dfPrecip.shape[0]\n",
    "    months = dfPrecip.shape[1]\n",
    "    r = range(0, years)\n",
    "    m = range(0, months)\n",
    "    \n",
    "    for i in r: \n",
    "        for j in m:   \n",
    "            if(dfPrecip.iat[i, j] == 'Tr'): \n",
    "                dfPrecip.iat[i, j] = 0.0\n",
    "            if(type(dfPrecip.iat[i, j]) == str): \n",
    "                if(dfPrecip.iat[i, j].endswith('*')):\n",
    "                   dfPrecip.iat[i, j] = dfPrecip.iat[i, j][:-1]\n",
    "                dfPrecip.iat[i, j] = float(dfPrecip.iat[i, j])\n",
    "                     \n",
    "replaceTr()\n",
    "dfPrecip = dfPrecip.drop([121, 1])\n",
    "dfPrecip = dfPrecip.drop(['Year'], axis = 1)\n",
    "dfPrecip = dfPrecip.drop(['YEAR TOTAL'], axis = 1)\n",
    "dfPrecip = dfPrecip.astype(str).astype(float)\n",
    "#dfPrecip['JAN'] = pd.to_numeric(dfPrecip['JAN'])\n",
    "\n",
    "#dfPrecip = dfPrecip.astype('float64')\n",
    "print(dfPrecip)\n",
    "dfPrecip.dtypes"
   ]
  },
  {
   "cell_type": "markdown",
   "metadata": {},
   "source": [
    "**Part B:** Generate a series of 12 box plots with month as the x axis and precipitation on the y-axis."
   ]
  },
  {
   "cell_type": "code",
   "execution_count": 580,
   "metadata": {},
   "outputs": [
    {
     "data": {
      "text/plain": [
       "<matplotlib.axes._subplots.AxesSubplot at 0x7f93313469d0>"
      ]
     },
     "execution_count": 580,
     "metadata": {},
     "output_type": "execute_result"
    },
    {
     "data": {
      "image/png": "[encoded data removed]",
      "text/plain": [
       "<Figure size 432x288 with 1 Axes>"
      ]
     },
     "metadata": {
      "needs_background": "light"
     },
     "output_type": "display_data"
    }
   ],
   "source": [
    "#Your code here\n",
    "bplots = dfPrecip\n",
    "bplots.boxplot(grid='True')\n"
   ]
  },
  {
   "cell_type": "markdown",
   "metadata": {},
   "source": [
    "\n",
    "**Part C:** Spring is the wet season in Boulder.   But what is Spring?\n",
    "\n",
    "Atmospheric scientists love to group months seasonally, breaking the year into a Winter season including December, January, February; a Spring including March, April, and May; and so forth.\n",
    "\n",
    "The solar year, however, says that Spring runs from near the end of March until near the end of June: let's round at the nearest month and say that it includes the months of April, May and June.\n",
    "\n",
    "Generate a box plot with precipitation on the y-axis and the two possible monthly 'Spring' groupings (March-May versus April-June) as the x-axis."
   ]
  },
  {
   "cell_type": "code",
   "execution_count": 581,
   "metadata": {},
   "outputs": [
    {
     "name": "stdout",
     "output_type": "stream",
     "text": [
      "      MAR   APR   MAY   JUN   SEP   MAR-MAY   APR-JUN\n",
      "0    0.75  9.18  1.84  0.49  1.54  3.923333  3.836667\n",
      "2    1.48  1.01  2.32  1.46  5.46  1.603333  1.596667\n",
      "3    1.45  2.31  2.02  1.87  1.31  1.926667  2.066667\n",
      "4    2.37  1.45  5.35  2.72  1.60  3.056667  3.173333\n",
      "5    1.85  6.65  4.78  0.55  1.64  4.426667  3.993333\n",
      "..    ...   ...   ...   ...   ...       ...       ...\n",
      "116  3.84  3.34  2.01  2.37  0.45  3.063333  2.573333\n",
      "117  1.45  3.15  6.29  0.45  1.92  3.630000  3.296667\n",
      "118  2.23  1.35  4.76  1.82  1.02  2.780000  2.643333\n",
      "119  2.83  1.87  3.89  2.12  0.56  2.863333  2.626667\n",
      "120  2.88  3.17  2.30  2.10  1.56  2.783333  2.523333\n",
      "\n",
      "[120 rows x 7 columns]\n"
     ]
    }
   ],
   "source": [
    "#Your code here\n",
    "springDf = dfPrecip.drop(['JAN', 'FEB', 'JUL', 'AUG', 'OCT', 'NOV', 'DEC'], axis = 1)\n",
    "\n",
    "march_may = springDf['MAR'] + springDf['APR'] + springDf['MAY']\n",
    "springDf['MAR-MAY'] = march_may / 3\n",
    "\n",
    "apr_jun = springDf['APR'] + springDf['MAY'] + springDf['JUN']\n",
    "springDf['APR-JUN'] = apr_jun / 3\n",
    "print(springDf)\n"
   ]
  },
  {
   "cell_type": "markdown",
   "metadata": {},
   "source": [
    "**Part D:** These might look pretty similar!  Highlight and comment on any differences by calculating the mean, standard deviation, and a Tukey five number summary of each classification of Spring.  Is there a reason here to favor one grouping over the other?"
   ]
  },
  {
   "cell_type": "code",
   "execution_count": 582,
   "metadata": {},
   "outputs": [
    {
     "name": "stdout",
     "output_type": "stream",
     "text": [
      "MARCH - MAY\n",
      "--------------------- \n",
      "\n",
      "Mean:  2.510444444444444\n",
      "\n",
      "Standard Deviation:  0.9087615640237617\n",
      "Tukey 5 Number Summary \n",
      " --------------------- \n",
      "\n",
      "Minimum:  0.7366666666666667\n",
      "\n",
      "Q1:  1.8658333333333332\n",
      "\n",
      "Median:  2.376666666666667\n",
      "\n",
      "Q2:  3.058333333333333\n",
      "\n",
      "Maximum:  5.583333333333333\n",
      "\n",
      "Max - Min:  4.846666666666667\n",
      "\n",
      "\n",
      "APRIL - JUNE\n",
      "--------------------- \n",
      "\n",
      "Mean:  2.562527777777778\n",
      "\n",
      "Standard Deviation:  0.9755654576661466\n",
      "Tukey 5 Number Summary \n",
      " --------------------- \n",
      "\n",
      "Minimum:  1.04\n",
      "\n",
      "Q1:  1.7408333333333335\n",
      "\n",
      "Median:  2.465\n",
      "\n",
      "Q2:  3.160833333333333\n",
      "\n",
      "Maximum:  6.3566666666666665\n",
      "\n",
      "Max - Min:  5.316666666666666\n",
      "\n",
      "\n"
     ]
    }
   ],
   "source": [
    "#Code here\n",
    "\n",
    "#Mean \n",
    "def mean(x): \n",
    "    n = x.size\n",
    "    arrSum = 0\n",
    "    for i in range(n): \n",
    "        arrSum = arrSum + x[i]\n",
    "        mean = arrSum / n\n",
    "    return mean\n",
    "\n",
    "#Tukey 5 Number Summary \n",
    "def numSum(x): \n",
    "    q = percentile(x, [25, 50, 75])\n",
    "    \n",
    "    minX = x.min()\n",
    "    maxX = x.max()\n",
    "    q1 = q[0]\n",
    "    median = q[1]\n",
    "    q3 = q[2]\n",
    "    \n",
    "    print(\"Tukey 5 Number Summary \\n --------------------- \\n\")\n",
    "    print(\"Minimum: \", minX)\n",
    "    print(\"\\nQ1: \", q1)\n",
    "    print(\"\\nMedian: \", median)\n",
    "    print(\"\\nQ2: \", q3)\n",
    "    print(\"\\nMaximum: \", maxX)\n",
    "    print(\"\\nMax - Min: \", (maxX-minX))\n",
    "    \n",
    "    \n",
    "\n",
    "def main(): \n",
    "    group1 = springDf['MAR-MAY'].to_numpy()\n",
    "    group2 = springDf['APR-JUN'].to_numpy()\n",
    "    \n",
    "    mean1 = mean(group1)\n",
    "    mean2 = mean(group2)\n",
    "\n",
    "    sd1 = np.std(group1)\n",
    "    sd2 = np.std(group2)\n",
    "    \n",
    "    print(\"MARCH - MAY\\n--------------------- \\n\")\n",
    "    print(\"Mean: \", mean1)\n",
    "    print(\"\\nStandard Deviation: \", sd1)\n",
    "    numSum(group1)\n",
    "    print(\"\\n\")\n",
    "    \n",
    "    print(\"APRIL - JUNE\\n--------------------- \\n\")\n",
    "    print(\"Mean: \", mean2)\n",
    "    print(\"\\nStandard Deviation: \", sd2)\n",
    "    numSum(group2)\n",
    "    print(\"\\n\")\n",
    "    \n",
    "main()"
   ]
  },
  {
   "cell_type": "markdown",
   "metadata": {},
   "source": [
    "**Typeset your analysis to part D in this cell or cells**\n",
    "The standard deviation of March to May is less than that of April to June, therefore making it a more reliable data set. The difference between the max and min also show that the data in April to June has a larger range. The rest of the values do not differ from each other significantly. "
   ]
  },
  {
   "cell_type": "markdown",
   "metadata": {},
   "source": [
    "**Part E:** Create a density histogram of the September precipitation.  Classify and describe this histogram, including discussion of any skewness, multimodality, or outliers.  Find the data point associated with September, 2013, and recreate your histogram with that value in a different color or otherwise clearly marked."
   ]
  },
  {
   "cell_type": "code",
   "execution_count": 594,
   "metadata": {},
   "outputs": [
    {
     "data": {
      "image/png": "[encoded data removed]",
      "text/plain": [
       "<Figure size 1440x1080 with 1 Axes>"
      ]
     },
     "metadata": {
      "needs_background": "light"
     },
     "output_type": "display_data"
    }
   ],
   "source": [
    "# September box plot code here\n",
    "fig, ax = plt.subplots(figsize=(20,15))\n",
    "N, bins, patches = ax.hist(dfPrecip['SEP'], edgecolor='white',bins=25, color='teal', linewidth=1,density=True)\n",
    "for i in range(17, len(patches)):\n",
    "    patches[i].set_facecolor('purple')\n",
    "ax.grid()"
   ]
  },
  {
   "cell_type": "markdown",
   "metadata": {},
   "source": [
    "**Typeset your analysis for part E in this cell or cells**\n",
    "The data set skews left, with singular modality. The outlier, in 2013, is precipitation of 18.16. \n",
    "\n",
    "**Part F:** That one data point in September 2013 is pretty out there!  Compute the mean and standard deviation of the September precipitation values, then compute them again while excluding the 2013 observation.  How much did each change?\n",
    "\n",
    "If someone were to ask you about the average weather in September, what would you respond?\n",
    "\n"
   ]
  },
  {
   "cell_type": "code",
   "execution_count": 584,
   "metadata": {},
   "outputs": [
    {
     "name": "stdout",
     "output_type": "stream",
     "text": [
      "SEPTEMBER\n",
      "--------------------- \n",
      "\n",
      "Mean:  1.7011666666666663\n",
      "\n",
      "Standard Deviation:  1.9701625073976907\n",
      "\n",
      "\n",
      "SEPTEMBER (2013 removed)\n",
      "--------------------- \n",
      "\n",
      "Mean:  1.5630508474576268\n",
      "\n",
      "Standard Deviation:  1.277625915698873\n"
     ]
    }
   ],
   "source": [
    "# September code here\n",
    "#Code here\n",
    "#Mean \n",
    "def mean(x): \n",
    "    n = x.size\n",
    "    arrSum = 0\n",
    "    for i in range(n): \n",
    "        arrSum = arrSum + x[i]\n",
    "        mean = arrSum / n\n",
    "    return mean\n",
    "\n",
    "def main(): \n",
    "    sepDf = dfPrecip['SEP'] \n",
    "    group1 = sepDf.to_numpy()\n",
    "    sepDf = sepDf.drop([113, 0])\n",
    "    group2 = sepDf.to_numpy()\n",
    "    mean1 = mean(group1)\n",
    "    mean2 = mean(group2)\n",
    "    sd1 = np.std(group1)\n",
    "    sd2 = np.std(group2)\n",
    "    \n",
    "    print(\"SEPTEMBER\\n--------------------- \\n\")\n",
    "    print(\"Mean: \", mean1)\n",
    "    print(\"\\nStandard Deviation: \", sd1)\n",
    "    \n",
    "    print(\"\\n\\nSEPTEMBER (2013 removed)\\n--------------------- \\n\")\n",
    "    print(\"Mean: \", mean2)\n",
    "    print(\"\\nStandard Deviation: \", sd2)\n",
    "  \n",
    "    \n",
    "main()"
   ]
  },
  {
   "cell_type": "markdown",
   "metadata": {},
   "source": [
    "**Typeset your analysis for part F in this cell or cells**\n",
    "\n",
    "The average weather in the September is relatively dry. The mean is much lower than that of Spring months but the standard deviation is greater, meaning that the weather varies slightly more. This makes sense because during the spring months, there is likely precipitation on a majority of the days. In the Fall, only a few days may have precipitation, therefore, increasing the standard deviation when computed with days of little to no precipitation. "
   ]
  },
  {
   "cell_type": "markdown",
   "metadata": {},
   "source": [
    "[Back to top](#top)"
   ]
  }
 ],
 "metadata": {
  "kernelspec": {
   "display_name": "Python 3",
   "language": "python",
   "name": "python3"
  },
  "language_info": {
   "codemirror_mode": {
    "name": "ipython",
    "version": 3
   },
   "file_extension": ".py",
   "mimetype": "text/x-python",
   "name": "python",
   "nbconvert_exporter": "python",
   "pygments_lexer": "ipython3",
   "version": "3.8.3"
  }
 },
 "nbformat": 4,
 "nbformat_minor": 4
}

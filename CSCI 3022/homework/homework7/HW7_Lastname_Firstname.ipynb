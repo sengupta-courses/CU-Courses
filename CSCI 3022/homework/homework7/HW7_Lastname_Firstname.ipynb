{
 "cells": [
  {
   "cell_type": "markdown",
   "metadata": {},
   "source": [
    "<a id='top'></a>\n",
    "\n",
    "# CSCI3022 S21\n",
    "# Homework 7: Regression Practice\n",
    "***\n",
    "\n",
    "**Name**: Pourna Sengupta\n",
    "\n",
    "***\n",
    "\n",
    "This assignment is due on Canvas by **MIDNIGHT on Friday, April 22**. Your solutions to theoretical questions should be done in Markdown directly below the associated question.  Your solutions to computational questions should include any specified Python code and results as well as written commentary on your conclusions.  Remember that you are encouraged to discuss the problems with your classmates, but **you must write all code and solutions on your own**.\n",
    "\n",
    "**NOTES**: \n",
    "\n",
    "- Any relevant data sets should be available on Canvas. To make life easier on the graders if they need to run your code, do not change the relative path names here. Instead, move the files around on your computer.\n",
    "- If you're not familiar with typesetting math directly into Markdown then by all means, do your work on paper first and then typeset it later.  Here is a [reference guide](https://math.meta.stackexchange.com/questions/5020/mathjax-basic-tutorial-and-quick-reference) linked on Canvas on writing math in Markdown. **All** of your written commentary, justifications and mathematical work should be in Markdown.  I also recommend the [wikibook](https://en.wikibooks.org/wiki/LaTeX) for LaTex.\n",
    "- Because you can technically evaluate notebook cells is a non-linear order, it's a good idea to do **Kernel $\\rightarrow$ Restart & Run All** as a check before submitting your solutions.  That way if we need to run your code you will know that it will work as expected. \n",
    "- It is **bad form** to make your reader interpret numerical output from your code.  If a question asks you to compute some value from the data you should show your code output **AND** write a summary of the results in Markdown directly below your code. \n",
    "- 45 points of this assignment are in problems.  The remaining 5 are for neatness, style, and overall exposition of both code and text.\n",
    "- This probably goes without saying, but... For any question that asks you to calculate something, you **must show all work and justify your answers to receive credit**. Sparse or nonexistent work will receive sparse or nonexistent credit. \n",
    "\n",
    "---\n",
    "**Shortcuts:**  [Data Set 1](#p1) | [Data Set 2](#p2) | [Data Set 3](#p3) |  [Data Set 4](#p4) |\n",
    "---"
   ]
  },
  {
   "cell_type": "code",
   "execution_count": 1,
   "metadata": {},
   "outputs": [],
   "source": [
    "#old salwarts\n",
    "import pandas as pd\n",
    "import numpy as np\n",
    "import matplotlib.pylab as plt\n",
    "import scipy.stats as stats\n",
    "%matplotlib inline\n",
    "\n",
    "#new friends\n",
    "import seaborn as sns\n",
    "import statsmodels.api as sm #this line is now always in our opener\n",
    "from statsmodels.stats.outliers_influence import summary_table\n",
    "from patsy import dmatrices # for making design matrices out of categorical features #instead of sm.add_constant\n"
   ]
  },
  {
   "cell_type": "markdown",
   "metadata": {},
   "source": [
    "## [All problems: 11 points/ea]\n",
    "**Shortcuts:**  [1](#p1) | [2](#p2) | [3](#p3) | [4](#p4) |\n",
    "\n",
    "\n",
    "Run the cell below to load in the data set known as \"Anscombe's Quartet.\"  It contains 4 data sets, each with its own set of $x$ and $y$ values.\n",
    "\n",
    "\n",
    "Each data set has exactly 11 observations.  For each data set, you will perform the same steps of visualizing and fitting a linear model."
   ]
  },
  {
   "cell_type": "code",
   "execution_count": 8,
   "metadata": {},
   "outputs": [
    {
     "name": "stdout",
     "output_type": "stream",
     "text": [
      "  dataset     x     y\n",
      "0       I  10.0  8.04\n",
      "1       I   8.0  6.95\n",
      "2       I  13.0  7.58\n",
      "3       I   9.0  8.81\n",
      "4       I  11.0  8.33\n"
     ]
    },
    {
     "data": {
      "text/plain": [
       "array(['I', 'II', 'III', 'IV'], dtype=object)"
      ]
     },
     "execution_count": 8,
     "metadata": {},
     "output_type": "execute_result"
    }
   ],
   "source": [
    "df = sns.load_dataset(\"anscombe\")\n",
    "\n",
    "print(df.head())\n",
    "df['dataset'].unique()"
   ]
  },
  {
   "cell_type": "markdown",
   "metadata": {},
   "source": [
    "<br>\n",
    "\n",
    "---\n",
    "<a/ id='p1'></a>\n",
    "[Back to top](#top)\n",
    "## [25 points] Data Set 1\n",
    "\n",
    "For the data set marked with \"I\" in the given data frame,  perform a regression analysis.  Use markdown to clearly mark each step.\n",
    "\n",
    "\n",
    "#### Part A: Make a scatter plot of the data set and overlay the line of best least-squares fit.  Print the summary table, and write the final model in a markdown cell."
   ]
  },
  {
   "cell_type": "code",
   "execution_count": 38,
   "metadata": {},
   "outputs": [
    {
     "data": {
      "image/png": "[encoded data removed]",
      "text/plain": [
       "<Figure size 432x288 with 1 Axes>"
      ]
     },
     "metadata": {
      "needs_background": "light"
     },
     "output_type": "display_data"
    }
   ],
   "source": [
    "def plotlsf(df): \n",
    "    ds1 = df[df.dataset == \"I\"]\n",
    "    m, b = np.polyfit(ds1.x, ds1.y, 1)\n",
    "    plt.plot(ds1.x, ds1.y, 'o')\n",
    "    plt.plot(ds1.x, (m * ds1.x) + b)\n",
    "plotlsf(df)"
   ]
  },
  {
   "cell_type": "markdown",
   "metadata": {},
   "source": [
    "\n",
    "#### Part B: Make a scatter plot where the original x-values are the x-axis and the residuals of the line of best least-squares fit are the y-axis."
   ]
  },
  {
   "cell_type": "code",
   "execution_count": 39,
   "metadata": {},
   "outputs": [
    {
     "name": "stdout",
     "output_type": "stream",
     "text": [
      "Residuals: \n",
      " [1.52100000e-03 2.58248760e-03 3.69128889e+00 1.71371901e+00\n",
      " 2.92720992e-02 1.71095041e-03 1.53602222e+00 5.48272934e-01\n",
      " 3.38125231e+00 2.82484417e+00 3.22039339e-02] \n",
      "\n"
     ]
    },
    {
     "data": {
      "image/png": "[encoded data removed]",
      "text/plain": [
       "<Figure size 432x288 with 1 Axes>"
      ]
     },
     "metadata": {
      "needs_background": "light"
     },
     "output_type": "display_data"
    }
   ],
   "source": [
    "def plotrlsf(df): \n",
    "    ds1 = df[df.dataset == \"I\"]\n",
    "    m, b = np.polyfit(ds1.x, ds1.y, 1)\n",
    "    r = np.array(np.square((ds1.y - ((m * ds1.x) + b))))\n",
    "    plt.plot(ds1.x, r, 'o')\n",
    "    \n",
    "    print(\"Residuals: \\n\", r, \"\\n\")\n",
    "                 \n",
    "plotrlsf(df)"
   ]
  },
  {
   "cell_type": "markdown",
   "metadata": {},
   "source": [
    "\n",
    "#### Part C: For each of the 4 major assumptions of the simple linear regression model, use your plots in parts A and B to decide whether or not the data set meets those assumptions."
   ]
  },
  {
   "cell_type": "markdown",
   "metadata": {},
   "source": [
    "## Simple Linear Regression Model Assumptions:\n",
    "<br> \n",
    "     (1) Linear Relationship: Met <br> \n",
    "    The first data set in Anscombe's Quartet shows a linear relationship between x and y, showing that y is dependent on the value of the independent variable x. \n",
    "    <br>\n",
    "     (2) Independence: Met <br> \n",
    "    The residuals, shown in the second plot, do not show a linear relationship, and therefore show independence. \n",
    "    <br> \n",
    "     (3) Constant Residual Variance: Not Met <br> \n",
    "    The residuals do not vary consitently throughtout all x values in the dataset. \n",
    "    <br> \n",
    "     (4) Normality: Not Met <br> \n",
    "    The residuals of the model are not normally distributed. \n",
    "    <br> "
   ]
  },
  {
   "cell_type": "markdown",
   "metadata": {},
   "source": [
    "\n",
    "#### Part D: If the data set violated any assumptions in part C, adjust the model accordingly if possible.  Consider removing outliers, adding higher order polynomial terms, etc.  If you adjust the model, make another set of plots as in parts A and B of the new fit and the new residuals."
   ]
  },
  {
   "cell_type": "code",
   "execution_count": 133,
   "metadata": {},
   "outputs": [
    {
     "name": "stdout",
     "output_type": "stream",
     "text": [
      "Old Residuals:  [1.52100000e-03 2.58248760e-03 3.69128889e+00 1.71371901e+00\n",
      " 2.92720992e-02 1.71095041e-03 1.53602222e+00 5.48272934e-01\n",
      " 3.38125231e+00 2.82484417e+00 3.22039339e-02] \n",
      "\n",
      "New Residuals: \n",
      " [[6.40160010e+01 4.90114552e+01 9.02741834e+01 5.62636372e+01\n",
      "  7.22685466e+01 1.00027275e+02 3.60076368e+01 2.50045457e+01\n",
      "  8.10212741e+01 4.22594551e+01 3.02560003e+01]\n",
      " [6.40160010e+01 4.90114552e+01 9.02741834e+01 5.62636372e+01\n",
      "  7.22685466e+01 1.00027275e+02 3.60076368e+01 2.50045457e+01\n",
      "  8.10212741e+01 4.22594551e+01 3.02560003e+01]\n",
      " [3.35241000e-01 2.49381521e+00 8.48743438e-01 1.16443719e+00\n",
      "  6.22664463e-03 2.02027459e+00 6.65311677e+00 1.28131457e+01\n",
      "  1.77394124e-01 4.32337507e+00 9.48304030e+00]\n",
      " [3.64810000e-02 6.54775215e-01 2.86040344e+00 9.55371901e-02\n",
      "  4.77606645e-01 4.80207459e+00 3.27379677e+00 7.89354566e+00\n",
      "  1.41891412e+00 1.71419507e+00 5.33358030e+00]\n",
      " [6.40160010e+01 4.90114552e+01 9.02741834e+01 5.62636372e+01\n",
      "  7.22685466e+01 1.00027275e+02 3.60076368e+01 2.50045457e+01\n",
      "  8.10212741e+01 4.22594551e+01 3.02560003e+01]\n",
      " [6.40160010e+01 4.90114552e+01 9.02741834e+01 5.62636372e+01\n",
      "  7.22685466e+01 1.00027275e+02 3.60076368e+01 2.50045457e+01\n",
      "  8.10212741e+01 4.22594551e+01 3.02560003e+01]\n",
      " [3.10112100e+00 5.78844306e-01 1.06358998e+01 1.58989174e+00\n",
      "  5.11253210e+00 1.41478564e+01 5.72949504e-02 1.53647293e+00\n",
      "  7.62412503e+00 6.79787107e-02 5.46793025e-01]\n",
      " [6.40160010e+01 4.90114552e+01 9.02741834e+01 5.62636372e+01\n",
      "  7.22685466e+01 1.00027275e+02 3.60076368e+01 2.50045457e+01\n",
      "  8.10212741e+01 4.22594551e+01 3.02560003e+01]\n",
      " [3.38192100e+00 8.06095340e+00 1.14736165e-01 5.47134628e+00\n",
      "  1.79267755e+00 2.60382231e-02 1.47407131e+01 2.34212002e+01\n",
      "  7.03615942e-01 1.11507423e+01 1.88308658e+01]\n",
      " [4.75676100e+00 1.39433158e+00 1.35517689e+01 2.82545537e+00\n",
      "  7.18824846e+00 1.74838019e+01 3.26294959e-02 6.71654752e-01\n",
      "  1.01199178e+01 4.63389620e-01 1.02051207e-01]\n",
      " [6.40160010e+01 4.90114552e+01 9.02741834e+01 5.62636372e+01\n",
      "  7.22685466e+01 1.00027275e+02 3.60076368e+01 2.50045457e+01\n",
      "  8.10212741e+01 4.22594551e+01 3.02560003e+01]] \n",
      "\n"
     ]
    },
    {
     "data": {
      "image/png": "[encoded data removed]",
      "text/plain": [
       "<Figure size 432x288 with 2 Axes>"
      ]
     },
     "metadata": {
      "needs_background": "light"
     },
     "output_type": "display_data"
    }
   ],
   "source": [
    "def plotcombo(ds1, x, y): \n",
    "    m, b = np.polyfit(ds1.x, ds1.y, 1)\n",
    "    ds1x = np.array(ds1.loc[:, \"x\"])\n",
    "    ds1y = np.zeros([11, 1])\n",
    "    r = np.zeros([11,1])\n",
    "    ry = np.array((m*ds1.x) + b)\n",
    "    for i in range(0, 10): \n",
    "        if(ry[i] - y[i] >= 1): \n",
    "            ds1y[i] = y[i] + 1\n",
    "        elif(ry[i] - y[i] <= -1): \n",
    "            ds1y[i] = y[i] - 1\n",
    "    oldr = np.square(y - ry)    \n",
    "    r = np.array(np.square((ds1y - ((m * ds1x) + b))))\n",
    "    \n",
    "    print(\"Old Residuals: \", oldr, \"\\n\")\n",
    "    print(\"New Residuals: \\n\", r, \"\\n\")\n",
    "    return (ds1y, r)\n",
    "                \n",
    "    \n",
    "def main():\n",
    "    set1 = df[df.dataset == \"I\"]\n",
    "    x1 = np.array(set1.loc[:, \"x\"])\n",
    "    y1 = np.array(set1.loc[:, \"y\"])\n",
    "    \n",
    "    m, b = np.polyfit(set1.x, set1.y, 1)\n",
    "\n",
    "        \n",
    "    (newY, r1) = plotcombo(set1, x1, y1)\n",
    "    \n",
    "    fig, axs = plt.subplots(2)\n",
    "    axs[0].plot(set1.x, set1.y, 'o')\n",
    "    axs[0].plot(set1.x, m * set1.x + b)\n",
    "    axs[0].plot(x1, newY, 'o')\n",
    "\n",
    "    axs[1].plot(x1, r1[10], 'o')\n",
    "main()\n"
   ]
  },
  {
   "cell_type": "markdown",
   "metadata": {},
   "source": [
    "##### Part E: Write a sentence or two describing your thought process above.  If you did not adjust a model, why not?  If you did, what are the effects?"
   ]
  },
  {
   "cell_type": "markdown",
   "metadata": {},
   "source": [
    "I adjusted any vaulues that were varied by a difference of one or more to a smaller variance. "
   ]
  },
  {
   "cell_type": "markdown",
   "metadata": {},
   "source": [
    "<br>\n",
    "\n",
    "---\n",
    "<a/ id='p2'></a>\n",
    "[Back to top](#top)\n",
    "## [25 points] Data Set 2\n",
    "\n",
    "For the data set marked with \"II\" in the given data frame,  perform a regression analysis.  Use markdown to clearly mark each step.\n",
    "\n",
    "\n",
    "#### Part A: Make a scatter plot of the data set and overlay the line of best least-squares fit.  Print the summary table, and write the final model in a markdown cell."
   ]
  },
  {
   "cell_type": "code",
   "execution_count": 134,
   "metadata": {},
   "outputs": [
    {
     "data": {
      "image/png": "[encoded data removed]",
      "text/plain": [
       "<Figure size 432x288 with 1 Axes>"
      ]
     },
     "metadata": {
      "needs_background": "light"
     },
     "output_type": "display_data"
    }
   ],
   "source": [
    "def plotlsf(df): \n",
    "    ds1 = df[df.dataset == \"II\"]\n",
    "    m, b = np.polyfit(ds1.x, ds1.y, 1)\n",
    "    plt.plot(ds1.x, ds1.y, 'o')\n",
    "    plt.plot(ds1.x, (m * ds1.x) + b)\n",
    "plotlsf(df)"
   ]
  },
  {
   "cell_type": "markdown",
   "metadata": {},
   "source": [
    "\n",
    "#### Part B: Make a scatter plot where the original x-values are the x-axis and the residuals of the line of best least-squares fit are the y-axis."
   ]
  },
  {
   "cell_type": "code",
   "execution_count": 135,
   "metadata": {},
   "outputs": [
    {
     "name": "stdout",
     "output_type": "stream",
     "text": [
      "Residuals: \n",
      " [1.2975281  1.2975281  0.57898264 1.61059174 0.57621901 3.61345537\n",
      " 0.01666446 3.61345537 0.01666446 0.57621901 0.57898264] \n",
      "\n"
     ]
    },
    {
     "data": {
      "image/png": "[encoded data removed]",
      "text/plain": [
       "<Figure size 432x288 with 1 Axes>"
      ]
     },
     "metadata": {
      "needs_background": "light"
     },
     "output_type": "display_data"
    }
   ],
   "source": [
    "def plotrlsf(df): \n",
    "    ds1 = df[df.dataset == \"II\"]\n",
    "    m, b = np.polyfit(ds1.x, ds1.y, 1)\n",
    "    r = np.array(np.square((ds1.y - ((m * ds1.x) + b))))\n",
    "    plt.plot(ds1.x, r, 'o')\n",
    "    \n",
    "    print(\"Residuals: \\n\", r, \"\\n\")\n",
    "                 \n",
    "plotrlsf(df)"
   ]
  },
  {
   "cell_type": "markdown",
   "metadata": {},
   "source": [
    "\n",
    "#### Part C: For each of the 4 major assumptions of the simple linear regression model, use your plots in parts A and B to decide whether or not the data set meets those assumptions."
   ]
  },
  {
   "cell_type": "markdown",
   "metadata": {},
   "source": [
    "## Simple Linear Regression Model Assumptions:\n",
    "<br> \n",
    "     (1) Linear Relationship: Not Met <br> \n",
    "    The first data set in Anscombe's Quartet shows a quadratic relationship between x and y.\n",
    "    <br>\n",
    "     (2) Independence: Met <br> \n",
    "    The residuals, shown in the second plot, does not show a linear relationship, and therefore shows independence. \n",
    "    <br> \n",
    "     (3) Constant Residual Variance: Not Met <br> \n",
    "    The residuals do not vary consitently throughtout all x values in the dataset. \n",
    "    <br> \n",
    "     (4) Normality: Not Met <br> \n",
    "    The residuals of the model are not normally distributed. \n",
    "    <br> "
   ]
  },
  {
   "cell_type": "markdown",
   "metadata": {},
   "source": [
    "\n",
    "#### Part D: If the data set violated any assumptions in part C, adjust the model accordingly if possible.  Consider removing outliers, adding higher order polynomial terms, etc.  If you adjust the model, make another set of plots as in parts A and B of the new fit and the new residuals."
   ]
  },
  {
   "cell_type": "code",
   "execution_count": 198,
   "metadata": {},
   "outputs": [
    {
     "name": "stdout",
     "output_type": "stream",
     "text": [
      "Old Residuals:  [1.2975281  1.2975281  0.57898264 1.61059174 0.57621901 3.61345537\n",
      " 0.01666446 3.61345537 0.01666446 0.57621901 0.57898264] \n",
      "\n",
      "New Residuals: \n",
      " [[7.41164463e-01 1.93462810e-02 5.57389174e+00 1.30255372e-01\n",
      "  1.85207355e+00 8.18480083e+00 1.29752810e+00 4.57570992e+00\n",
      "  3.46298264e+00 4.08437190e-01 2.68661901e+00]\n",
      " [3.46298264e+00 7.41164463e-01 1.12957099e+01 1.85207355e+00\n",
      "  5.57389174e+00 1.49066190e+01 1.93462810e-02 1.29752810e+00\n",
      "  8.18480083e+00 1.30255372e-01 4.08437190e-01]\n",
      " [1.58989174e+00 6.80735537e-02 7.62261901e+00 5.78982645e-01\n",
      "  3.10080083e+00 1.06335281e+01 5.46255372e-01 3.02443719e+00\n",
      "  5.11170992e+00 5.71644628e-02 1.53534628e+00]\n",
      " [1.51513719e+00 5.33190083e-02 7.45786446e+00 5.34228099e-01\n",
      "  2.99604628e+00 1.04387736e+01 5.91500826e-01 3.12968264e+00\n",
      "  4.97695537e+00 7.24099174e-02 1.61059174e+00]\n",
      " [5.48946281e-01 6.71280992e-02 5.02167355e+00 5.80371901e-02\n",
      "  1.53985537e+00 7.51258264e+00 1.58530992e+00 5.10349174e+00\n",
      "  3.03076446e+00 5.76219008e-01 3.09440083e+00]\n",
      " [3.61345537e+00 8.11637190e-01 1.15661826e+01 1.96254628e+00\n",
      "  5.76436446e+00 1.52170917e+01 9.81900826e-03 1.20800083e+00\n",
      "  8.41527355e+00 1.60728099e-01 3.58909917e-01]\n",
      " [1.49839372e+01 8.24211901e+00 2.88466645e+01 1.13630281e+01\n",
      "  1.91048463e+01 3.44675736e+01 3.50030083e+00 7.58482645e-01\n",
      "  2.37257554e+01 5.62120992e+00 1.87939174e+00]\n",
      " [4.76225463e+01 3.48207281e+01 7.05752736e+01 4.09716372e+01\n",
      "  5.47734554e+01 7.92261826e+01 2.40189099e+01 1.52170917e+01\n",
      "  6.24243645e+01 2.91698190e+01 1.93680008e+01]\n",
      " [7.58482645e-01 1.66644628e-02 5.62120992e+00 1.37573554e-01\n",
      "  1.87939174e+00 8.24211901e+00 1.27484628e+00 4.53302810e+00\n",
      "  3.50030083e+00 3.95755372e-01 2.65393719e+00]\n",
      " [7.51258264e+00 3.03076446e+00 1.79853099e+01 5.02167355e+00\n",
      "  1.05034917e+01 2.24762190e+01 5.48946281e-01 6.71280992e-02\n",
      "  1.39944008e+01 1.53985537e+00 5.80371901e-02]\n",
      " [6.40145463e+01 4.90127281e+01 9.02672736e+01 5.62636372e+01\n",
      "  7.22654554e+01 1.00018183e+02 3.60109099e+01 2.50090917e+01\n",
      "  8.10163645e+01 4.22618190e+01 3.02600008e+01]] \n",
      "\n"
     ]
    },
    {
     "data": {
      "image/png": "[encoded data removed]",
      "text/plain": [
       "<Figure size 432x288 with 2 Axes>"
      ]
     },
     "metadata": {
      "needs_background": "light"
     },
     "output_type": "display_data"
    }
   ],
   "source": [
    "def plotcombo(ds1, x, y): \n",
    "    m, b = np.polyfit(ds1.x, ds1.y, 1)\n",
    "    ds1x = np.array(ds1.loc[:, \"x\"])\n",
    "    ds1y = np.zeros([11, 1])\n",
    "    r = np.zeros([11,1])\n",
    "    ry = np.array((m*ds1.x) + b)\n",
    "    for i in range(0, 10): \n",
    "        if(y[i] >= 2): \n",
    "            ds1y[i] = y[i] - 2\n",
    "    oldr = np.square(y - ry)    \n",
    "    r = np.array(np.square((ds1y - ((m * ds1x) + b))))\n",
    "    \n",
    "    print(\"Old Residuals: \", oldr, \"\\n\")\n",
    "    print(\"New Residuals: \\n\", r, \"\\n\")\n",
    "    return (ds1y, r)\n",
    "                \n",
    "    \n",
    "def main():\n",
    "    set2 = df[df.dataset == \"II\"]\n",
    "    x2 = np.array(set2.loc[:, \"x\"])\n",
    "    y2 = np.array(set2.loc[:, \"y\"])\n",
    "    \n",
    "    m, b = np.polyfit(set2.x, set2.y, 1)    \n",
    "    fig, axs = plt.subplots(2)\n",
    "    axs[0].plot(set2.x, set2.y, 'o')\n",
    "    axs[0].plot(set2.x, m * set2.x + b)\n",
    "    \n",
    "    (newY, r1) = plotcombo(set2, x2, y2)\n",
    "\n",
    "    axs[0].plot(x2, newY, 'o')\n",
    "    axs[1].plot(x2, r1[10], 'o')\n",
    "main()\n"
   ]
  },
  {
   "cell_type": "markdown",
   "metadata": {},
   "source": [
    "\n",
    "#### Part E: Write a sentence or two describing your thought process above.  If you did not adjust a model, why not?  If you did, what are the effects?"
   ]
  },
  {
   "cell_type": "markdown",
   "metadata": {},
   "source": [
    "I reduced the two outying values to better match the data set. "
   ]
  },
  {
   "cell_type": "markdown",
   "metadata": {},
   "source": [
    "<br>\n",
    "\n",
    "---\n",
    "<a/ id='p3'></a>\n",
    "[Back to top](#top)\n",
    "## [25 points] Data Set 3\n",
    "\n",
    "For the data set marked with \"III\" in the given data frame,  perform a regression analysis.  Use markdown to clearly mark each step.\n",
    "\n",
    "\n",
    "#### Part A: Make a scatter plot of the data set and overlay the line of best least-squares fit.  Print the summary table, and write the final model in a markdown cell."
   ]
  },
  {
   "cell_type": "code",
   "execution_count": 199,
   "metadata": {},
   "outputs": [
    {
     "name": "stdout",
     "output_type": "stream",
     "text": [
      "Residuals: \n",
      " [2.91305529e-01 5.30255289e-02 1.05046703e+01 1.52100000e-01\n",
      " 4.75347570e-01 1.34243822e+00 6.26976033e-03 1.51038223e-01\n",
      " 7.21109760e-01 6.48757025e-03 5.23993719e-02] \n",
      "\n"
     ]
    },
    {
     "data": {
      "image/png": "[encoded data removed]",
      "text/plain": [
       "<Figure size 432x288 with 1 Axes>"
      ]
     },
     "metadata": {
      "needs_background": "light"
     },
     "output_type": "display_data"
    }
   ],
   "source": [
    "def plotrlsf(df): \n",
    "    ds1 = df[df.dataset == \"III\"]\n",
    "    m, b = np.polyfit(ds1.x, ds1.y, 1)\n",
    "    r = np.array(np.square((ds1.y - ((m * ds1.x) + b))))\n",
    "    plt.plot(ds1.x, r, 'o')\n",
    "    \n",
    "    print(\"Residuals: \\n\", r, \"\\n\")\n",
    "                 \n",
    "plotrlsf(df)"
   ]
  },
  {
   "cell_type": "markdown",
   "metadata": {},
   "source": [
    "\n",
    "#### Part B: Make a scatter plot where the original x-values are the x-axis and the residuals of the line of best least-squares fit are the y-axis."
   ]
  },
  {
   "cell_type": "code",
   "execution_count": 200,
   "metadata": {},
   "outputs": [
    {
     "data": {
      "image/png": "[encoded data removed]",
      "text/plain": [
       "<Figure size 432x288 with 1 Axes>"
      ]
     },
     "metadata": {
      "needs_background": "light"
     },
     "output_type": "display_data"
    }
   ],
   "source": [
    "def plotlsf(df): \n",
    "    ds1 = df[df.dataset == \"III\"]\n",
    "    m, b = np.polyfit(ds1.x, ds1.y, 1)\n",
    "    plt.plot(ds1.x, ds1.y, 'o')\n",
    "    plt.plot(ds1.x, (m * ds1.x) + b)\n",
    "plotlsf(df)"
   ]
  },
  {
   "cell_type": "markdown",
   "metadata": {},
   "source": [
    "\n",
    "#### Part C: For each of the 4 major assumptions of the simple linear regression model, use your plots in parts A and B to decide whether or not the data set meets those assumptions."
   ]
  },
  {
   "cell_type": "markdown",
   "metadata": {},
   "source": [
    "## Simple Linear Regression Model Assumptions:\n",
    "<br> \n",
    "     (1) Linear Relationship: Not Met <br> \n",
    "    The first data set in Anscombe's Quartet shows a slightly exponential, mostly linear relationship between x and y.\n",
    "    <br>\n",
    "     (2) Independence: Not Met <br> \n",
    "    The residuals, shown in the second plot, show a linear relationship, and therefore shows dependence. \n",
    "    <br> \n",
    "     (3) Constant Residual Variance:  Met <br> \n",
    "    The residuals do vary consitently throughtout all x values in the dataset. \n",
    "    <br> \n",
    "     (4) Normality: Not Met <br> \n",
    "    The residuals of the model are not normally distributed. \n",
    "    <br> "
   ]
  },
  {
   "cell_type": "markdown",
   "metadata": {},
   "source": [
    "\n",
    "#### Part D: If the data set violated any assumptions in part C, adjust the model accordingly if possible.  Consider removing outliers, adding higher order polynomial terms, etc.  If you adjust the model, make another set of plots as in parts A and B of the new fit and the new residuals."
   ]
  },
  {
   "cell_type": "code",
   "execution_count": 203,
   "metadata": {},
   "outputs": [
    {
     "name": "stdout",
     "output_type": "stream",
     "text": [
      "Old Residuals:  [2.06611570e-07 1.52217912e-06 1.72710406e-05 2.56535672e-05\n",
      " 1.21858661e-06 4.05211671e-06 7.79642435e-06 1.05414066e-07\n",
      " 1.14015854e-05 6.74650025e-06] \n",
      "\n",
      "New Residuals: \n",
      " [[55.64481839 45.81619633 50.61121337 60.91701137 78.1651181  36.94192613\n",
      "  29.0220078  66.42779231 41.25976725 32.86267298]\n",
      " [55.64481839 45.81619633 50.61121337 60.91701137 78.1651181  36.94192613\n",
      "  29.0220078  66.42779231 41.25976725 32.86267298]\n",
      " [55.64481839 45.81619633 50.61121337 60.91701137 78.1651181  36.94192613\n",
      "  29.0220078  66.42779231 41.25976725 32.86267298]\n",
      " [55.64481839 45.81619633 50.61121337 60.91701137 78.1651181  36.94192613\n",
      "  29.0220078  66.42779231 41.25976725 32.86267298]\n",
      " [55.64481839 45.81619633 50.61121337 60.91701137 78.1651181  36.94192613\n",
      "  29.0220078  66.42779231 41.25976725 32.86267298]\n",
      " [55.64481839 45.81619633 50.61121337 60.91701137 78.1651181  36.94192613\n",
      "  29.0220078  66.42779231 41.25976725 32.86267298]\n",
      " [55.64481839 45.81619633 50.61121337 60.91701137 78.1651181  36.94192613\n",
      "  29.0220078  66.42779231 41.25976725 32.86267298]\n",
      " [55.64481839 45.81619633 50.61121337 60.91701137 78.1651181  36.94192613\n",
      "  29.0220078  66.42779231 41.25976725 32.86267298]\n",
      " [55.64481839 45.81619633 50.61121337 60.91701137 78.1651181  36.94192613\n",
      "  29.0220078  66.42779231 41.25976725 32.86267298]\n",
      " [55.64481839 45.81619633 50.61121337 60.91701137 78.1651181  36.94192613\n",
      "  29.0220078  66.42779231 41.25976725 32.86267298]] \n",
      "\n"
     ]
    },
    {
     "data": {
      "image/png": "[encoded data removed]",
      "text/plain": [
       "<Figure size 432x288 with 2 Axes>"
      ]
     },
     "metadata": {
      "needs_background": "light"
     },
     "output_type": "display_data"
    }
   ],
   "source": [
    "def plotcombo(ds1, x, y): \n",
    "    m, b = np.polyfit(ds1.x, ds1.y, 1)\n",
    "    ds1x = np.array(ds1.loc[:, \"x\"])\n",
    "    ds1y = np.zeros([10, 1])\n",
    "    r = np.zeros([10,1])\n",
    "    ry = np.array((m*ds1.x) + b)\n",
    "   \n",
    "    oldr = np.square(y - ry)    \n",
    "    r = np.array(np.square((ds1y - ((m * ds1x) + b))))\n",
    "    \n",
    "    print(\"Old Residuals: \", oldr, \"\\n\")\n",
    "    print(\"New Residuals: \\n\", r, \"\\n\")\n",
    "    return (ds1y, r)\n",
    "                \n",
    "    \n",
    "def main():\n",
    "    set3 = df[df.dataset == \"III\"]\n",
    "    set3 = set3.drop(24)\n",
    "    x3 = np.array(set3.loc[:, \"x\"])\n",
    "    y3 = np.array(set3.loc[:, \"y\"])\n",
    "    \n",
    "    m, b = np.polyfit(set3.x, set3.y, 1)    \n",
    "    fig, axs = plt.subplots(2)\n",
    "    axs[0].plot(set3.x, set3.y, 'o')\n",
    "    axs[0].plot(set3.x, m * set3.x + b)\n",
    "    \n",
    "    (newY, r1) = plotcombo(set3, x3, y3)\n",
    "\n",
    "    axs[0].plot(x3, newY, 'o')\n",
    "    axs[1].plot(x3, r1[9], 'o')\n",
    "main()\n"
   ]
  },
  {
   "cell_type": "markdown",
   "metadata": {},
   "source": [
    "\n",
    "#### Part E: Write a sentence or two describing your thought process above.  If you did not adjust a model, why not?  If you did, what are the effects?"
   ]
  },
  {
   "cell_type": "markdown",
   "metadata": {},
   "source": [
    "I adjusted the outlying value at x = 13. "
   ]
  },
  {
   "cell_type": "markdown",
   "metadata": {},
   "source": [
    "<br>\n",
    "\n",
    "---\n",
    "<a/ id='p4'></a>\n",
    "[Back to top](#top)\n",
    "## [25 points] Data Set 4\n",
    "\n",
    "For the data set marked with \"IV\" in the given data frame, perform a regression analysis.  Use markdown to clearly mark each step.\n",
    "\n",
    "\n",
    "#### Part A: Make a scatter plot of the data set and overlay the line of best least-squares fit.  Print the summary table, and write the final model in a markdown cell."
   ]
  },
  {
   "cell_type": "code",
   "execution_count": 204,
   "metadata": {},
   "outputs": [
    {
     "name": "stdout",
     "output_type": "stream",
     "text": [
      "Residuals: \n",
      " [1.77241000e-01 1.54008100e+00 5.02681000e-01 3.38192100e+00\n",
      " 2.15796100e+00 1.52100000e-03 3.06600100e+00 1.26217745e-29\n",
      " 2.07648100e+00 8.26281000e-01 1.23210000e-02] \n",
      "\n"
     ]
    },
    {
     "data": {
      "image/png": "[encoded data removed]",
      "text/plain": [
       "<Figure size 432x288 with 1 Axes>"
      ]
     },
     "metadata": {
      "needs_background": "light"
     },
     "output_type": "display_data"
    }
   ],
   "source": [
    "def plotrlsf(df): \n",
    "    ds1 = df[df.dataset == \"IV\"]\n",
    "    m, b = np.polyfit(ds1.x, ds1.y, 1)\n",
    "    r = np.array(np.square((ds1.y - ((m * ds1.x) + b))))\n",
    "    plt.plot(ds1.x, r, 'o')\n",
    "    \n",
    "    print(\"Residuals: \\n\", r, \"\\n\")\n",
    "                 \n",
    "plotrlsf(df)"
   ]
  },
  {
   "cell_type": "markdown",
   "metadata": {},
   "source": [
    "\n",
    "#### Part B: Make a scatter plot where the original x-values are the x-axis and the residuals of the line of best least-squares fit are the y-axis."
   ]
  },
  {
   "cell_type": "code",
   "execution_count": 205,
   "metadata": {},
   "outputs": [
    {
     "data": {
      "image/png": "[encoded data removed]",
      "text/plain": [
       "<Figure size 432x288 with 1 Axes>"
      ]
     },
     "metadata": {
      "needs_background": "light"
     },
     "output_type": "display_data"
    }
   ],
   "source": [
    "def plotlsf(df): \n",
    "    ds1 = df[df.dataset == \"IV\"]\n",
    "    m, b = np.polyfit(ds1.x, ds1.y, 1)\n",
    "    plt.plot(ds1.x, ds1.y, 'o')\n",
    "    plt.plot(ds1.x, (m * ds1.x) + b)\n",
    "plotlsf(df)"
   ]
  },
  {
   "cell_type": "markdown",
   "metadata": {},
   "source": [
    "\n",
    "#### Part C: For each of the 4 major assumptions of the simple linear regression model, use your plots in parts A and B to decide whether or not the data set meets those assumptions."
   ]
  },
  {
   "cell_type": "markdown",
   "metadata": {},
   "source": [
    "## Simple Linear Regression Model Assumptions:\n",
    "<br> \n",
    "     (1) Linear Relationship: Not Met <br> \n",
    "    The first data set in Anscombe's Quartet shows a slightly exponential, mostly linear relationship between x and y.\n",
    "    <br>\n",
    "     (2) Independence: Not Met <br> \n",
    "    The residuals, shown in the second plot, show a linear relationship, and therefore shows dependence. \n",
    "    <br> \n",
    "     (3) Constant Residual Variance: Not Met <br> \n",
    "    The residuals do not vary consitently throughtout all x values in the dataset. \n",
    "    <br> \n",
    "     (4) Normality: Not Met <br> \n",
    "    The residuals of the model are not normally distributed. \n",
    "    <br> "
   ]
  },
  {
   "cell_type": "markdown",
   "metadata": {},
   "source": [
    "\n",
    "#### Part D: If the data set violated any assumptions in part C, adjust the model accordingly if possible.  Consider removing outliers, adding higher order polynomial terms, etc.  If you adjust the model, make another set of plots as in parts A and B of the new fit and the new residuals."
   ]
  },
  {
   "cell_type": "code",
   "execution_count": 193,
   "metadata": {},
   "outputs": [
    {
     "name": "stderr",
     "output_type": "stream",
     "text": [
      "<ipython-input-193-08507b680ec3>:31: RankWarning: Polyfit may be poorly conditioned\n",
      "  main()\n",
      "<ipython-input-193-08507b680ec3>:27: RankWarning: Polyfit may be poorly conditioned\n",
      "  (newY, r1) = plotcombo(set3, x3, y3)\n"
     ]
    },
    {
     "name": "stdout",
     "output_type": "stream",
     "text": [
      "Old Residuals:  [0.998001 0.998001 0.998001 0.998001 0.998001 0.998001 0.998001 0.998001\n",
      " 0.998001 0.998001] \n",
      "\n",
      "New Residuals: \n",
      " [[40.70007766 36.25075514 47.25334533 54.29556595 51.93586728 43.30877128\n",
      "  33.61336153 35.20461256 48.46414432 42.44920739]\n",
      " [40.70007766 36.25075514 47.25334533 54.29556595 51.93586728 43.30877128\n",
      "  33.61336153 35.20461256 48.46414432 42.44920739]\n",
      " [40.70007766 36.25075514 47.25334533 54.29556595 51.93586728 43.30877128\n",
      "  33.61336153 35.20461256 48.46414432 42.44920739]\n",
      " [40.70007766 36.25075514 47.25334533 54.29556595 51.93586728 43.30877128\n",
      "  33.61336153 35.20461256 48.46414432 42.44920739]\n",
      " [40.70007766 36.25075514 47.25334533 54.29556595 51.93586728 43.30877128\n",
      "  33.61336153 35.20461256 48.46414432 42.44920739]\n",
      " [40.70007766 36.25075514 47.25334533 54.29556595 51.93586728 43.30877128\n",
      "  33.61336153 35.20461256 48.46414432 42.44920739]\n",
      " [40.70007766 36.25075514 47.25334533 54.29556595 51.93586728 43.30877128\n",
      "  33.61336153 35.20461256 48.46414432 42.44920739]\n",
      " [40.70007766 36.25075514 47.25334533 54.29556595 51.93586728 43.30877128\n",
      "  33.61336153 35.20461256 48.46414432 42.44920739]\n",
      " [40.70007766 36.25075514 47.25334533 54.29556595 51.93586728 43.30877128\n",
      "  33.61336153 35.20461256 48.46414432 42.44920739]\n",
      " [40.70007766 36.25075514 47.25334533 54.29556595 51.93586728 43.30877128\n",
      "  33.61336153 35.20461256 48.46414432 42.44920739]] \n",
      "\n"
     ]
    },
    {
     "data": {
      "image/png": "[encoded data removed]",
      "text/plain": [
       "<Figure size 432x288 with 2 Axes>"
      ]
     },
     "metadata": {
      "needs_background": "light"
     },
     "output_type": "display_data"
    }
   ],
   "source": [
    "def plotcombo(ds1, x, y): \n",
    "    m, b = np.polyfit(ds1.x, ds1.y, 1)\n",
    "    ds1x = np.array(ds1.loc[:, \"y\"])\n",
    "    ds1y = np.zeros([10, 1])\n",
    "    r = np.zeros([10,1])\n",
    "    ry = np.array((m*ds1.x) + b)\n",
    "   \n",
    "    oldr = np.square(y - ry)    \n",
    "    r = np.array(np.square((ds1y - ((m * ds1x) + b))))\n",
    "    \n",
    "    print(\"Old Residuals: \", oldr, \"\\n\")\n",
    "    print(\"New Residuals: \\n\", r, \"\\n\")\n",
    "    return (ds1y, r)\n",
    "                \n",
    "    \n",
    "def main():\n",
    "    set3 = df[df.dataset == \"IV\"]\n",
    "    set3 = set3.drop(40)\n",
    "    x3 = np.array(set3.loc[:, \"y\"])\n",
    "    y3 = np.array(set3.loc[:, \"x\"])\n",
    "    \n",
    "    m, b = np.polyfit(set3.x, set3.y, 1)    \n",
    "    fig, axs = plt.subplots(2)\n",
    "    axs[0].plot(set3.x, set3.y, 'o')\n",
    "    axs[0].plot(set3.x, m * set3.x + b)\n",
    "    \n",
    "    (newY, r1) = plotcombo(set3, x3, y3)\n",
    "\n",
    "    axs[0].plot(x3, newY, 'o')\n",
    "    axs[1].plot(x3, r1[9], 'o')\n",
    "main()\n"
   ]
  },
  {
   "cell_type": "markdown",
   "metadata": {},
   "source": [
    "\n",
    "#### Part E: Write a sentence or two describing your thought process above.  If you did not adjust a model, why not?  If you did, what are the effects?"
   ]
  },
  {
   "cell_type": "markdown",
   "metadata": {},
   "source": [
    "I adjusted the outlying value and swapped the x and y data sets. "
   ]
  },
  {
   "cell_type": "code",
   "execution_count": null,
   "metadata": {},
   "outputs": [],
   "source": []
  }
 ],
 "metadata": {
  "kernelspec": {
   "display_name": "Python 3",
   "language": "python",
   "name": "python3"
  },
  "language_info": {
   "codemirror_mode": {
    "name": "ipython",
    "version": 3
   },
   "file_extension": ".py",
   "mimetype": "text/x-python",
   "name": "python",
   "nbconvert_exporter": "python",
   "pygments_lexer": "ipython3",
   "version": "3.8.3"
  }
 },
 "nbformat": 4,
 "nbformat_minor": 4
}

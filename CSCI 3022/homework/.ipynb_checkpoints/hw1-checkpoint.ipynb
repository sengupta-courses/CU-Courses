{
 "cells": [
  {
   "cell_type": "code",
   "execution_count": 1,
   "metadata": {},
   "outputs": [
    {
     "ename": "NameError",
     "evalue": "name 'reload' is not defined",
     "output_type": "error",
     "traceback": [
      "\u001b[0;31m---------------------------------------------------------------------------\u001b[0m",
      "\u001b[0;31mNameError\u001b[0m                                 Traceback (most recent call last)",
      "\u001b[0;32m<ipython-input-1-3609fbc13ae4>\u001b[0m in \u001b[0;36m<module>\u001b[0;34m\u001b[0m\n\u001b[1;32m      1\u001b[0m \u001b[0;32mimport\u001b[0m \u001b[0msys\u001b[0m\u001b[0;34m\u001b[0m\u001b[0;34m\u001b[0m\u001b[0m\n\u001b[0;32m----> 2\u001b[0;31m \u001b[0mreload\u001b[0m\u001b[0;34m(\u001b[0m\u001b[0msys\u001b[0m\u001b[0;34m)\u001b[0m\u001b[0;34m\u001b[0m\u001b[0;34m\u001b[0m\u001b[0m\n\u001b[0m\u001b[1;32m      3\u001b[0m \u001b[0msys\u001b[0m\u001b[0;34m.\u001b[0m\u001b[0msetdefaultencoding\u001b[0m\u001b[0;34m(\u001b[0m\u001b[0;34m'utf-8'\u001b[0m\u001b[0;34m)\u001b[0m\u001b[0;34m\u001b[0m\u001b[0;34m\u001b[0m\u001b[0m\n\u001b[1;32m      4\u001b[0m \u001b[0;34m\u001b[0m\u001b[0m\n\u001b[1;32m      5\u001b[0m \u001b[0;32mimport\u001b[0m \u001b[0mpandas\u001b[0m \u001b[0;32mas\u001b[0m \u001b[0mpd\u001b[0m\u001b[0;34m\u001b[0m\u001b[0;34m\u001b[0m\u001b[0m\n",
      "\u001b[0;31mNameError\u001b[0m: name 'reload' is not defined"
     ]
    }
   ],
   "source": [
    "import sys\n",
    "\n",
    "import pandas as pd\n",
    "import numpy as np\n",
    "\n",
    "#Your Code here\n",
    "def central():\n",
    "    #Creating NumPy arrays \n",
    "    x = np.array([12.2, -5, 1, 3.8, -4.1, 5.9, 1.9, 9.0, 3.5])\n",
    "    y = np.array([12.2, -5, 1, 3.8, -4.1, 5.9, 1.9, 9.0, 6.0])\n",
    "    #NumPy method to find number of elements \n",
    "    n = x.size\n",
    "    print(n)\n",
    "    #Mean \n",
    "    #Iterate through array \n",
    "    for i in range (0,n): \n",
    "        #Sum array elements \n",
    "        sumX = sumX + x[i]\n",
    "        sumY = sumY + y[i]\n",
    "        #Divide sum by number of elements \n",
    "        meanX = sumX / n\n",
    "        meanY = sumY / n\n",
    "        \n",
    "    #Median \n",
    "    #Check if array is even or odd\n",
    "    if(n % 2 == 0): \n",
    "        mid = n // 2\n",
    "    else: \n",
    "        mid = (n + 1) // 2\n",
    "        \n",
    "    medianX = x[mid]\n",
    "    medianY = y[mid]\n",
    "    \n",
    "    print(\"Array X: \\n Mean: %d \\n Median: %d\", meanX, medianX)\n",
    "    print(\"Array Y: \\n Mean: %d \\n Median: %d\", meanY, medianY)\n",
    "\n",
    "    \n"
   ]
  },
  {
   "cell_type": "code",
   "execution_count": null,
   "metadata": {},
   "outputs": [],
   "source": []
  },
  {
   "cell_type": "code",
   "execution_count": null,
   "metadata": {},
   "outputs": [],
   "source": []
  }
 ],
 "metadata": {
  "kernelspec": {
   "display_name": "Python 3",
   "language": "python",
   "name": "python3"
  },
  "language_info": {
   "codemirror_mode": {
    "name": "ipython",
    "version": 3
   },
   "file_extension": ".py",
   "mimetype": "text/x-python",
   "name": "python",
   "nbconvert_exporter": "python",
   "pygments_lexer": "ipython3",
   "version": "3.8.3"
  }
 },
 "nbformat": 4,
 "nbformat_minor": 4
}
